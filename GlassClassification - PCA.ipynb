{
 "cells": [
  {
   "cell_type": "markdown",
   "metadata": {},
   "source": [
    "# Glass Type Classification"
   ]
  },
  {
   "cell_type": "markdown",
   "metadata": {},
   "source": [
    "## Introduction\n",
    "\n",
    "In this worksheet, we will consider a classification problem for Glass Indentication. The Glass Identification Data Set from UCI. It contains 9 attributes including, Refractive index and the percentage of various elements in the composition. The response type is glass type, 7 discrete values. E.g., building windows, vehicle windows, containers, tableware etc.\n",
    "\n",
    "The dataset was downloaded from: https://www.kaggle.com/uciml/glass/home"
   ]
  },
  {
   "cell_type": "code",
   "execution_count": 3,
   "metadata": {},
   "outputs": [
    {
     "data": {
      "text/html": [
       "<div>\n",
       "<style>\n",
       "    .dataframe thead tr:only-child th {\n",
       "        text-align: right;\n",
       "    }\n",
       "\n",
       "    .dataframe thead th {\n",
       "        text-align: left;\n",
       "    }\n",
       "\n",
       "    .dataframe tbody tr th {\n",
       "        vertical-align: top;\n",
       "    }\n",
       "</style>\n",
       "<table border=\"1\" class=\"dataframe\">\n",
       "  <thead>\n",
       "    <tr style=\"text-align: right;\">\n",
       "      <th></th>\n",
       "      <th>RI</th>\n",
       "      <th>Na</th>\n",
       "      <th>Mg</th>\n",
       "      <th>Al</th>\n",
       "      <th>Si</th>\n",
       "      <th>K</th>\n",
       "      <th>Ca</th>\n",
       "      <th>Ba</th>\n",
       "      <th>Fe</th>\n",
       "      <th>Type</th>\n",
       "    </tr>\n",
       "  </thead>\n",
       "  <tbody>\n",
       "    <tr>\n",
       "      <th>0</th>\n",
       "      <td>1.52101</td>\n",
       "      <td>13.64</td>\n",
       "      <td>4.49</td>\n",
       "      <td>1.10</td>\n",
       "      <td>71.78</td>\n",
       "      <td>0.06</td>\n",
       "      <td>8.75</td>\n",
       "      <td>0.0</td>\n",
       "      <td>0.0</td>\n",
       "      <td>1</td>\n",
       "    </tr>\n",
       "    <tr>\n",
       "      <th>1</th>\n",
       "      <td>1.51761</td>\n",
       "      <td>13.89</td>\n",
       "      <td>3.60</td>\n",
       "      <td>1.36</td>\n",
       "      <td>72.73</td>\n",
       "      <td>0.48</td>\n",
       "      <td>7.83</td>\n",
       "      <td>0.0</td>\n",
       "      <td>0.0</td>\n",
       "      <td>1</td>\n",
       "    </tr>\n",
       "    <tr>\n",
       "      <th>2</th>\n",
       "      <td>1.51618</td>\n",
       "      <td>13.53</td>\n",
       "      <td>3.55</td>\n",
       "      <td>1.54</td>\n",
       "      <td>72.99</td>\n",
       "      <td>0.39</td>\n",
       "      <td>7.78</td>\n",
       "      <td>0.0</td>\n",
       "      <td>0.0</td>\n",
       "      <td>1</td>\n",
       "    </tr>\n",
       "    <tr>\n",
       "      <th>3</th>\n",
       "      <td>1.51766</td>\n",
       "      <td>13.21</td>\n",
       "      <td>3.69</td>\n",
       "      <td>1.29</td>\n",
       "      <td>72.61</td>\n",
       "      <td>0.57</td>\n",
       "      <td>8.22</td>\n",
       "      <td>0.0</td>\n",
       "      <td>0.0</td>\n",
       "      <td>1</td>\n",
       "    </tr>\n",
       "    <tr>\n",
       "      <th>4</th>\n",
       "      <td>1.51742</td>\n",
       "      <td>13.27</td>\n",
       "      <td>3.62</td>\n",
       "      <td>1.24</td>\n",
       "      <td>73.08</td>\n",
       "      <td>0.55</td>\n",
       "      <td>8.07</td>\n",
       "      <td>0.0</td>\n",
       "      <td>0.0</td>\n",
       "      <td>1</td>\n",
       "    </tr>\n",
       "  </tbody>\n",
       "</table>\n",
       "</div>"
      ],
      "text/plain": [
       "        RI     Na    Mg    Al     Si     K    Ca   Ba   Fe  Type\n",
       "0  1.52101  13.64  4.49  1.10  71.78  0.06  8.75  0.0  0.0     1\n",
       "1  1.51761  13.89  3.60  1.36  72.73  0.48  7.83  0.0  0.0     1\n",
       "2  1.51618  13.53  3.55  1.54  72.99  0.39  7.78  0.0  0.0     1\n",
       "3  1.51766  13.21  3.69  1.29  72.61  0.57  8.22  0.0  0.0     1\n",
       "4  1.51742  13.27  3.62  1.24  73.08  0.55  8.07  0.0  0.0     1"
      ]
     },
     "execution_count": 3,
     "metadata": {},
     "output_type": "execute_result"
    }
   ],
   "source": [
    "import pandas as pd\n",
    "import numpy as np\n",
    "import gc # garbage collection\n",
    "import seaborn as sns\n",
    "import matplotlib.pyplot as plt\n",
    "import sklearn.metrics as metrics\n",
    "%matplotlib inline\n",
    "path = (\"/Users/balaji/Downloads/glass.csv/\")\n",
    "df = pd.read_csv(\"glass.csv\")\n",
    "df.head()"
   ]
  },
  {
   "cell_type": "code",
   "execution_count": 4,
   "metadata": {},
   "outputs": [],
   "source": [
    "from sklearn import preprocessing\n",
    "df_values = df.iloc[:, :9]\n",
    "float_array = df_values.values.astype(float)\n",
    "min_max_scaler = preprocessing.MinMaxScaler()\n",
    "scaled_dataset = min_max_scaler.fit_transform(float_array)"
   ]
  },
  {
   "cell_type": "code",
   "execution_count": 5,
   "metadata": {
    "scrolled": true
   },
   "outputs": [],
   "source": [
    "dataset = np.array(df)\n",
    "# X2 = dataset[:,0:9]\n",
    "X2 = scaled_dataset\n",
    "y2 = dataset[:,9]"
   ]
  },
  {
   "cell_type": "code",
   "execution_count": 6,
   "metadata": {},
   "outputs": [
    {
     "data": {
      "text/plain": [
       "array([[ 0.43283582,  0.43759398,  1.        , ...,  0.30855019,\n",
       "         0.        ,  0.        ],\n",
       "       [ 0.28358209,  0.47518797,  0.80178174, ...,  0.22304833,\n",
       "         0.        ,  0.        ],\n",
       "       [ 0.22080773,  0.42105263,  0.79064588, ...,  0.21840149,\n",
       "         0.        ,  0.        ],\n",
       "       ..., \n",
       "       [ 0.41703248,  0.54586466,  0.        , ...,  0.27973978,\n",
       "         0.52063492,  0.        ],\n",
       "       [ 0.23529412,  0.54887218,  0.        , ...,  0.28345725,\n",
       "         0.4984127 ,  0.        ],\n",
       "       [ 0.26163301,  0.52631579,  0.        , ...,  0.2964684 ,\n",
       "         0.53015873,  0.        ]])"
      ]
     },
     "execution_count": 6,
     "metadata": {},
     "output_type": "execute_result"
    }
   ],
   "source": [
    "X = X2.astype(np.float)\n",
    "y = y2.astype(np.int)\n",
    "X"
   ]
  },
  {
   "cell_type": "code",
   "execution_count": 7,
   "metadata": {
    "collapsed": true
   },
   "outputs": [],
   "source": [
    "X_header=[\"RI\",\"Na\",\"Mg\",\"Al\",\"Si\",\"K\",\"Ca\",\"Ba\",\"Fe\"]\n",
    "df = pd.DataFrame(X,columns=X_header) # Get all X data\n",
    "df[\"Type\"] = y #"
   ]
  },
  {
   "cell_type": "code",
   "execution_count": 8,
   "metadata": {},
   "outputs": [
    {
     "name": "stdout",
     "output_type": "stream",
     "text": [
      "[[  1.77722811e-02  -3.14125427e-03  -5.23657804e-03  -8.44586014e-03\n",
      "   -9.99474621e-03  -4.05791317e-03   1.42893322e-02  -8.12302067e-06\n",
      "    3.64248787e-03]\n",
      " [ -3.14125427e-03   1.50792327e-02  -1.07983367e-02   2.99466516e-03\n",
      "   -1.18565656e-03  -3.43159664e-03  -4.47362957e-03   6.33063129e-03\n",
      "   -5.66228565e-03]\n",
      " [ -5.23657804e-03  -1.07983367e-02   1.03200896e-01  -2.40733936e-02\n",
      "   -7.37254009e-03   1.82041607e-04  -1.88546987e-02  -2.49617794e-02\n",
      "    5.09791402e-03]\n",
      " [ -8.44586014e-03   2.99466516e-03  -2.40733936e-02   2.41913587e-02\n",
      "   -1.18828576e-04   5.32446692e-03  -5.34024180e-03   1.17698000e-02\n",
      "   -2.21093986e-03]\n",
      " [ -9.99474621e-03  -1.18565656e-03  -7.37254009e-03  -1.18828576e-04\n",
      "    1.91301399e-02  -2.80830328e-03  -3.81845694e-03  -2.23018251e-03\n",
      "   -2.48928517e-03]\n",
      " [ -4.05791317e-03  -3.43159664e-03   1.82041607e-04   5.32446692e-03\n",
      "   -2.80830328e-03   1.10297972e-02  -4.41495755e-03  -7.06504323e-04\n",
      "   -1.54884828e-04]\n",
      " [  1.42893322e-02  -4.47362957e-03  -1.88546987e-02  -5.34024180e-03\n",
      "   -3.81845694e-03  -4.41495755e-03   1.74935899e-02  -2.35582843e-03\n",
      "    3.15791443e-03]\n",
      " [ -8.12302067e-06   6.33063129e-03  -2.49617794e-02   1.17698000e-02\n",
      "   -2.23018251e-03  -7.06504323e-04  -2.35582843e-03   2.49157967e-02\n",
      "   -1.77001031e-03]\n",
      " [  3.64248787e-03  -5.66228565e-03   5.09791402e-03  -2.21093986e-03\n",
      "   -2.48928517e-03  -1.54884828e-04   3.15791443e-03  -1.77001031e-03\n",
      "    3.65025005e-02]]\n"
     ]
    }
   ],
   "source": [
    "import numpy as np\n",
    "covariant_matrix = np.cov(X.T)\n",
    "print(covariant_matrix)"
   ]
  },
  {
   "cell_type": "code",
   "execution_count": 9,
   "metadata": {
    "collapsed": true
   },
   "outputs": [],
   "source": [
    "eigen_values,eigen_vectors = np.linalg.eig(covariant_matrix)"
   ]
  },
  {
   "cell_type": "code",
   "execution_count": 10,
   "metadata": {},
   "outputs": [
    {
     "name": "stdout",
     "output_type": "stream",
     "text": [
      "[[-0.03420952  0.51327262  0.23131525 -0.28691555  0.76227326 -0.03033651\n",
      "   0.04068834 -0.1259659  -0.00706248]\n",
      " [-0.11044243 -0.19867029  0.08910698 -0.20013534  0.15766763  0.3884908\n",
      "  -0.05013896  0.65388919  0.54265017]\n",
      " [ 0.90903503 -0.11710045 -0.02972865 -0.19100828  0.03693416  0.27396402\n",
      "   0.15619375 -0.13842858  0.05094571]\n",
      " [-0.24901968 -0.34736315 -0.34427771 -0.19473353  0.22875895  0.18784949\n",
      "   0.65596854  0.03563783 -0.37642646]\n",
      " [-0.05079549 -0.21642569 -0.00520515  0.73423641  0.38288325  0.32894209\n",
      "   0.00124735 -0.32454773  0.22652653]\n",
      " [ 0.00269769 -0.12930091 -0.16635716 -0.07888519  0.17112507  0.38000561\n",
      "  -0.67288061  0.10459906 -0.55855089]\n",
      " [-0.14094732  0.50234458  0.23187356  0.05806609 -0.38934113  0.66957133\n",
      "   0.22101397 -0.05962385 -0.13539681]\n",
      " [-0.26682812 -0.16429176 -0.18355983 -0.48987034 -0.11295423  0.19167156\n",
      "  -0.19631151 -0.63236223  0.37446892]\n",
      " [ 0.06801349  0.46883578 -0.8390357   0.12062091  0.01253248  0.01183121\n",
      "  -0.03136989  0.1281398   0.19833291]]\n"
     ]
    }
   ],
   "source": [
    "print(eigen_vectors)"
   ]
  },
  {
   "cell_type": "code",
   "execution_count": 11,
   "metadata": {},
   "outputs": [
    {
     "name": "stdout",
     "output_type": "stream",
     "text": [
      "[  1.22348913e-01   4.84501372e-02   3.40669665e-02   2.63871310e-02\n",
      "   1.16558763e-03   3.75462930e-05   7.02857199e-03   1.13492304e-02\n",
      "   1.84815091e-02]\n"
     ]
    }
   ],
   "source": [
    "print(eigen_values)"
   ]
  },
  {
   "cell_type": "code",
   "execution_count": 12,
   "metadata": {},
   "outputs": [
    {
     "name": "stdout",
     "output_type": "stream",
     "text": [
      "9\n",
      "[0.45429568907468537, 0.17990097302959271, 0.12649459375058836, 0.097978474655405476, 0.068623984440876043, 0.042141007248255299, 0.026097902147883122, 0.0043279619165001882, 0.00013941373621361515]\n"
     ]
    },
    {
     "data": {
      "image/png": "[encoded data removed]",
      "text/plain": [
       "<matplotlib.figure.Figure at 0x1a11a626d8>"
      ]
     },
     "metadata": {},
     "output_type": "display_data"
    }
   ],
   "source": [
    "import matplotlib.pyplot as plt\n",
    "%matplotlib inline\n",
    "\n",
    "tot = sum(eigen_values)\n",
    "var_exp = [(i/tot) for i in sorted(eigen_values,reverse=True)]\n",
    "print(len(var_exp))\n",
    "print(var_exp)\n",
    "cum_var_exp = np.cumsum(var_exp)\n",
    "\n",
    "plt.bar(range(1,10),var_exp,alpha=0.5,align='center',\n",
    "         label='individual explained variance')\n",
    "plt.step(range(1,10),cum_var_exp,where='mid',\n",
    "    label='cumulative explained variance')\n",
    "plt.ylabel('Explained variance ratio')\n",
    "plt.xlabel('Principal components')\n",
    "plt.legend(loc='best')\n",
    "plt.show()"
   ]
  },
  {
   "cell_type": "code",
   "execution_count": 14,
   "metadata": {},
   "outputs": [],
   "source": [
    "from sklearn.decomposition import PCA\n",
    "pca3 = PCA(n_components=3)\n",
    "principalComponents3 = pca3.fit_transform(X)\n",
    "principalDf3 = pd.DataFrame(data = principalComponents3, \\\n",
    "                           columns = ['principal component 1', \n",
    "                                      'principal component 2',\n",
    "                                      'principal component 3'])"
   ]
  },
  {
   "cell_type": "code",
   "execution_count": 15,
   "metadata": {
    "collapsed": true
   },
   "outputs": [],
   "source": [
    "pca2 = PCA(n_components=2)\n",
    "principalComponents2 = pca2.fit_transform(X)\n",
    "principalDf2 = pd.DataFrame(data = principalComponents2, \\\n",
    "                           columns = ['principal component 1', \n",
    "                                      'principal component 2'])"
   ]
  },
  {
   "cell_type": "code",
   "execution_count": 16,
   "metadata": {},
   "outputs": [
    {
     "name": "stdout",
     "output_type": "stream",
     "text": [
      "PCA 3 explained variance: [ 0.45429569  0.17990097  0.12649459]\n",
      "PCA 2 explained variance: [ 0.45429569  0.17990097]\n"
     ]
    }
   ],
   "source": [
    "print(\"PCA 3 explained variance:\", pca3.explained_variance_ratio_)\n",
    "print(\"PCA 2 explained variance:\", pca2.explained_variance_ratio_)"
   ]
  },
  {
   "cell_type": "code",
   "execution_count": 17,
   "metadata": {},
   "outputs": [
    {
     "name": "stdout",
     "output_type": "stream",
     "text": [
      "[[ 0.03420952  0.11044243 -0.90903503  0.24901968  0.05079549 -0.00269769\n",
      "   0.14094732  0.26682812 -0.06801349]\n",
      " [ 0.51327262 -0.19867029 -0.11710045 -0.34736315 -0.21642569 -0.12930091\n",
      "   0.50234458 -0.16429176  0.46883578]\n",
      " [-0.23131525 -0.08910698  0.02972865  0.34427771  0.00520515  0.16635716\n",
      "  -0.23187356  0.18355983  0.8390357 ]]\n"
     ]
    }
   ],
   "source": [
    "print(pca3.components_)"
   ]
  },
  {
   "cell_type": "code",
   "execution_count": 18,
   "metadata": {},
   "outputs": [
    {
     "name": "stdout",
     "output_type": "stream",
     "text": [
      "[[ 0.03420952  0.11044243 -0.90903503  0.24901968  0.05079549 -0.00269769\n",
      "   0.14094732  0.26682812 -0.06801349]\n",
      " [ 0.51327262 -0.19867029 -0.11710045 -0.34736315 -0.21642569 -0.12930091\n",
      "   0.50234458 -0.16429176  0.46883578]]\n"
     ]
    }
   ],
   "source": [
    "print(pca2.components_)"
   ]
  },
  {
   "cell_type": "code",
   "execution_count": 19,
   "metadata": {},
   "outputs": [
    {
     "name": "stdout",
     "output_type": "stream",
     "text": [
      "   principal component 1  principal component 2  principal component 3\n",
      "0              -0.402106               0.032707              -0.167050\n",
      "1              -0.206320              -0.144705              -0.081923\n",
      "2              -0.188617              -0.194854              -0.044696\n",
      "3              -0.237208              -0.097064              -0.086336\n",
      "4              -0.223972              -0.121779              -0.087395\n",
      "   principal component 1  principal component 2\n",
      "0              -0.402106               0.032707\n",
      "1              -0.206320              -0.144705\n",
      "2              -0.188617              -0.194854\n",
      "3              -0.237208              -0.097064\n",
      "4              -0.223972              -0.121779\n"
     ]
    }
   ],
   "source": [
    "print(principalDf3.head())\n",
    "print(principalDf2.head())"
   ]
  },
  {
   "cell_type": "markdown",
   "metadata": {},
   "source": [
    "From the cells above, it is clear that doing the transforms on the larger number of dimensions and then subsetting on fewer number of components is the same as doing PCA on smaller number of dimensions."
   ]
  },
  {
   "cell_type": "code",
   "execution_count": 20,
   "metadata": {},
   "outputs": [
    {
     "name": "stdout",
     "output_type": "stream",
     "text": [
      "   principal component 1  principal component 2  principal component 3  Type\n",
      "0              -0.402106               0.032707              -0.167050     1\n",
      "1              -0.206320              -0.144705              -0.081923     1\n",
      "2              -0.188617              -0.194854              -0.044696     1\n",
      "3              -0.237208              -0.097064              -0.086336     1\n",
      "4              -0.223972              -0.121779              -0.087395     1\n",
      "     principal component 1  principal component 2  principal component 3  Type\n",
      "209               0.749082              -0.233155               0.089777     7\n",
      "210               0.732719              -0.225962               0.023544     7\n",
      "211               0.739477              -0.141512              -0.001935     7\n",
      "212               0.723704              -0.228558               0.026492     7\n",
      "213               0.741011              -0.214725               0.040002     7\n"
     ]
    }
   ],
   "source": [
    "# finalDF is a data frame with three components rather than two.\n",
    "# Based on the comment above, by dropping the third column \n",
    "# we can get back to two components.\n",
    "finalDf = pd.concat([principalDf3, df[['Type']]], axis = 1)\n",
    "print(finalDf.head())\n",
    "print(finalDf.tail())"
   ]
  },
  {
   "cell_type": "code",
   "execution_count": 157,
   "metadata": {},
   "outputs": [
    {
     "data": {
      "text/plain": [
       "array([1, 2, 3, 5, 6, 7])"
      ]
     },
     "execution_count": 157,
     "metadata": {},
     "output_type": "execute_result"
    }
   ],
   "source": [
    "finalDf['Type'].unique()"
   ]
  },
  {
   "cell_type": "code",
   "execution_count": 21,
   "metadata": {
    "collapsed": true
   },
   "outputs": [],
   "source": [
    "%matplotlib inline\n",
    "import matplotlib.pyplot as plt\n",
    "from mpl_toolkits.mplot3d import Axes3D\n"
   ]
  },
  {
   "cell_type": "code",
   "execution_count": 22,
   "metadata": {},
   "outputs": [
    {
     "data": {
      "image/png": "[encoded data removed]",
      "text/plain": [
       "<matplotlib.figure.Figure at 0x1a16aee908>"
      ]
     },
     "metadata": {},
     "output_type": "display_data"
    }
   ],
   "source": [
    "fig = plt.figure(figsize = (8,8))\n",
    "ax = fig.add_subplot(1,1,1)\n",
    "ax.set_xlabel('PC1', fontsize = 15)\n",
    "ax.set_ylabel('PC2', fontsize = 15)\n",
    "ax.set_title('2 component PCA', fontsize = 20)\n",
    "targets = [1, 2, 3, 4, 5, 6, 7]\n",
    "colors = ['r','g', 'b', 'c', 'm', 'y', 'k']\n",
    "for target, color in zip(targets,colors):\n",
    "    indicesToKeep = finalDf['Type'] == target\n",
    "    ax.scatter(finalDf.loc[indicesToKeep, 'principal component 1']\n",
    "               , finalDf.loc[indicesToKeep, 'principal component 2']\n",
    "               , c = color\n",
    "               , s = 50)\n",
    "ax.legend(targets)\n",
    "ax.grid()"
   ]
  },
  {
   "cell_type": "code",
   "execution_count": 23,
   "metadata": {},
   "outputs": [
    {
     "data": {
      "image/png": "[encoded data removed]",
      "text/plain": [
       "<matplotlib.figure.Figure at 0x1a16aee3c8>"
      ]
     },
     "metadata": {},
     "output_type": "display_data"
    }
   ],
   "source": [
    "fig = plt.figure()#figsize = (8,8))\n",
    "#ax = fig.add_subplot(1,1,1) \n",
    "ax = fig.add_subplot(111, projection='3d')\n",
    "ax.set_xlabel('PC1', fontsize = 15)\n",
    "ax.set_ylabel('PC2', fontsize = 15)\n",
    "ax.set_zlabel('PC3', fontsize = 15)\n",
    "ax.set_title('3 component PCA', fontsize = 20)\n",
    "targets = [1, 2, 3, 4, 5, 6, 7]\n",
    "colors = ['r','g', 'b', 'c', 'm', 'y', 'k']\n",
    "for target, color in zip(targets,colors):\n",
    "    indicesToKeep = finalDf['Type'] == target\n",
    "    ax.scatter(finalDf.loc[indicesToKeep, 'principal component 1']\n",
    "               , finalDf.loc[indicesToKeep, 'principal component 2']\n",
    "               , finalDf.loc[indicesToKeep, 'principal component 3']\n",
    "               , c = color\n",
    "               , s = 50)\n",
    "ax.legend(targets)\n",
    "ax.grid()"
   ]
  },
  {
   "cell_type": "markdown",
   "metadata": {},
   "source": [
    "From the diagrams above, going to three dimensions seems to be have better clustering for certain labels.  However, three dimensions is still not very accurate clustering for certain labels. Eg., Label 4 and 5."
   ]
  },
  {
   "cell_type": "markdown",
   "metadata": {},
   "source": [
    "## Classification prediction using the original datasets and the PCA components"
   ]
  },
  {
   "cell_type": "markdown",
   "metadata": {},
   "source": [
    "We will run classification using some classifiers -- Naive Bayes, SVM, KNN3, and Random Forest methods.  We will compare the accuracy of the methods on the original dataset and on the simplified datasets that only include the principal components."
   ]
  },
  {
   "cell_type": "code",
   "execution_count": 24,
   "metadata": {
    "collapsed": true
   },
   "outputs": [],
   "source": [
    "# split data for train and test\n",
    "from sklearn.model_selection import train_test_split\n",
    "X_train, X_test, y_train, y_test = train_test_split(principalDf3, df['Type'], test_size=0.25, random_state=42)"
   ]
  },
  {
   "cell_type": "code",
   "execution_count": 25,
   "metadata": {},
   "outputs": [
    {
     "name": "stdout",
     "output_type": "stream",
     "text": [
      "dict_keys(['Naive Bayes', 'SVM', 'KNN3', 'KNN5', 'Random Forest10', 'Random Forest50'])\n"
     ]
    }
   ],
   "source": [
    "import math\n",
    "# from sklearn.linear_model import LogisticRegression\n",
    "# from sklearn.discriminant_analysis import LinearDiscriminantAnalysis\n",
    "from sklearn.ensemble import RandomForestClassifier\n",
    "from sklearn import svm\n",
    "from sklearn.naive_bayes import GaussianNB\n",
    "from sklearn.neighbors import KNeighborsClassifier\n",
    "\n",
    "# Next line is \"dictionary\" data structure from class 1\n",
    "d_models = {\"Naive Bayes\": GaussianNB(),\n",
    "            \"SVM\": svm.SVC(random_state=6),\n",
    "            \"KNN3\": KNeighborsClassifier(n_neighbors = 3),\n",
    "            \"KNN5\": KNeighborsClassifier(n_neighbors = 5),\n",
    "            \"Random Forest10\": RandomForestClassifier(n_estimators=10, random_state=6),\n",
    "            \"Random Forest50\": RandomForestClassifier(n_estimators=50, random_state=6)}\n",
    "models_list = d_models.keys()\n",
    "print(models_list)"
   ]
  },
  {
   "cell_type": "code",
   "execution_count": 221,
   "metadata": {},
   "outputs": [
    {
     "name": "stdout",
     "output_type": "stream",
     "text": [
      "Accuracy of various classification methods using the principal components values:\n",
      "Naive Bayes accuracy: 44.444444\n",
      "SVM accuracy: 64.814815\n",
      "KNN3 accuracy: 62.962963\n",
      "KNN5 accuracy: 64.814815\n",
      "Random Forest10 accuracy: 70.370370\n",
      "Random Forest50 accuracy: 77.777778\n"
     ]
    }
   ],
   "source": [
    "print(\"Accuracy of various classification methods using the principal components values:\")\n",
    "for classifer_name in models_list:\n",
    "    classifier = d_models[classifer_name]\n",
    "    classifer_model = classifier.fit(X_train,y_train)\n",
    "    # make predictions\n",
    "    expected = y_test\n",
    "    predicted = classifer_model.predict(X_test)\n",
    "    precision = metrics.accuracy_score(predicted, y_test) * 100\n",
    "    # summarize the fit of the model\n",
    "    print(classifer_name, \"accuracy: {0:.6f}\".format(precision))\n",
    "    # print(metrics.classification_report(expected, predicted))"
   ]
  },
  {
   "cell_type": "markdown",
   "metadata": {},
   "source": [
    "Using the Pricipal components values, from the accuracy values above it RandomForest performs the best with an accuracy of 77.7%.\n",
    "\n",
    "We will next see how well these methods perform on the original dataset."
   ]
  },
  {
   "cell_type": "code",
   "execution_count": 26,
   "metadata": {
    "collapsed": true
   },
   "outputs": [],
   "source": [
    "X_original_train, X_original_test, y_original_train, y_original_test = train_test_split(df.iloc[:, :9], df.iloc[:, 9], test_size=0.25, random_state=42)"
   ]
  },
  {
   "cell_type": "code",
   "execution_count": 27,
   "metadata": {},
   "outputs": [
    {
     "name": "stdout",
     "output_type": "stream",
     "text": [
      "Accuracy of various classification methods using the original dataset:\n",
      "Naive Bayes accuracy: 35.185185\n",
      "SVM accuracy: 42.592593\n",
      "KNN3 accuracy: 66.666667\n",
      "KNN5 accuracy: 59.259259\n",
      "Random Forest10 accuracy: 75.925926\n",
      "Random Forest50 accuracy: 79.629630\n"
     ]
    }
   ],
   "source": [
    "# Now let us run the classifiers for the original dataset \n",
    "print(\"Accuracy of various classification methods using the original dataset:\")\n",
    "for classifer_name in models_list:\n",
    "    classifier = d_models[classifer_name]\n",
    "    classifer_model = classifier.fit(X_original_train,y_original_train)\n",
    "    # make predictions\n",
    "    expected = y_original_test\n",
    "    predicted = classifer_model.predict(X_original_test)\n",
    "    precision = metrics.accuracy_score(predicted, y_original_test) * 100\n",
    "    # summarize the fit of the model\n",
    "    print(classifer_name, \"accuracy: {0:.6f}\".format(precision))\n",
    "    # print(metrics.classification_report(expected, predicted))\n",
    "    \n"
   ]
  },
  {
   "cell_type": "markdown",
   "metadata": {},
   "source": [
    "## Results\n",
    "\n",
    "From the two sets of results above, \n",
    "- NaiveBayes performs better on the Principal components table rather than the original dataset. However, both datasets have very poor accuracy numbers (<45% accuracy).\n",
    "- SVM accuracy is comparable on the two datasets (~64 - 66%).\n",
    "- KNN with number of neighbors = 3 performs better on the original dataset. However, with number of neightbors = 5, the PCA repreentation has better accuracy.\n",
    "- For RandomForest method, the original dataset performs much better than the PCA transformed data."
   ]
  },
  {
   "cell_type": "markdown",
   "metadata": {},
   "source": [
    "## Conclusions\n",
    "\n",
    "Since the number of dimensions is small (9) in the original dataset, and the the first three principal components explain only 74% of the variance, the first three principal components do not lead to better classification accuracy.  This was also clear from the scatter plot --- certain labels, like Label 4 and Label 5 were scattered, Labels 1 and 2 were clustered together.\n",
    "\n",
    "Hence PCA is not a very useful method for this dataset."
   ]
  },
  {
   "cell_type": "markdown",
   "metadata": {},
   "source": []
  }
 ],
 "metadata": {
  "kernelspec": {
   "display_name": "Python 3",
   "language": "python",
   "name": "python3"
  },
  "language_info": {
   "codemirror_mode": {
    "name": "ipython",
    "version": 3
   },
   "file_extension": ".py",
   "mimetype": "text/x-python",
   "name": "python",
   "nbconvert_exporter": "python",
   "pygments_lexer": "ipython3",
   "version": "3.6.3"
  }
 },
 "nbformat": 4,
 "nbformat_minor": 2
}
