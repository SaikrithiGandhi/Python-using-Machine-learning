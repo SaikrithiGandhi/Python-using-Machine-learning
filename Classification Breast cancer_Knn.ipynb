{
 "cells": [
  {
   "cell_type": "markdown",
   "metadata": {},
   "source": [
    "# Classification for Breast Cancer Dataset"
   ]
  },
  {
   "cell_type": "markdown",
   "metadata": {},
   "source": [
    "We are predicting whether cancer will reoccur or not using 10 categorical variables.\n",
    "\n",
    "Dataset is from: https://archive.ics.uci.edu/ml/datasets/Breast+Cancer\n",
    "\n",
    "The description of the dataset is at: https://archive.ics.uci.edu/ml/machine-learning-databases/breast-cancer/breast-cancer.names "
   ]
  },
  {
   "cell_type": "code",
   "execution_count": 9,
   "metadata": {
    "collapsed": true
   },
   "outputs": [],
   "source": [
    "import numpy as np\n",
    "import pandas as pd\n",
    "import seaborn as sns\n",
    "import numpy as np\n",
    "import matplotlib.pyplot as plt\n",
    "%matplotlib inline"
   ]
  },
  {
   "cell_type": "code",
   "execution_count": 23,
   "metadata": {
    "collapsed": true
   },
   "outputs": [],
   "source": [
    "def read_file_cancer(filename):\n",
    "    line_count = 0\n",
    "    file_read = open(filename,\"r\")\n",
    "    file_write = open(\"breast-cancer-modified.csv\",\"w\")\n",
    "    for line in iter(file_read):\n",
    "        line_no_newline = line.rstrip()\n",
    "        line_split = line_no_newline.split(\",\")\n",
    "        if \"?\" in line_split:\n",
    "            line_count += 1\n",
    "            print(\"Bad line number:\",line_count)\n",
    "            continue  \n",
    "        else:\n",
    "            line_count += 1\n",
    "            file_write.write(line)\n",
    "    file_read.close()\n",
    "    file_write.close()\n",
    "    return"
   ]
  },
  {
   "cell_type": "code",
   "execution_count": 24,
   "metadata": {},
   "outputs": [
    {
     "name": "stdout",
     "output_type": "stream",
     "text": [
      "Bad line number: 146\n",
      "Bad line number: 164\n",
      "Bad line number: 165\n",
      "Bad line number: 184\n",
      "Bad line number: 185\n",
      "Bad line number: 207\n",
      "Bad line number: 234\n",
      "Bad line number: 264\n",
      "Bad line number: 265\n"
     ]
    }
   ],
   "source": [
    "read_file_cancer(\"breast-cancer.data.csv\")"
   ]
  },
  {
   "cell_type": "markdown",
   "metadata": {},
   "source": [
    "After cleaning the dataset, there are 277 rows.  The reoccurence of cancer is the value we are trying to predict.  There are 10 features -- age, menopause status, tumor size, inv_nodes, node_caps, deg_malig, left/right breast, quadrant of the breast, irradiation status."
   ]
  },
  {
   "cell_type": "code",
   "execution_count": 44,
   "metadata": {},
   "outputs": [
    {
     "name": "stdout",
     "output_type": "stream",
     "text": [
      "Dataframe shape:  (277, 10) \n",
      "\n",
      "                  Class    age menopause tumor-size inv-nodes node-caps  \\\n",
      "0  no-recurrence-events  30-39   premeno      30-34       0-2        no   \n",
      "1  no-recurrence-events  40-49   premeno      20-24       0-2        no   \n",
      "2  no-recurrence-events  40-49   premeno      20-24       0-2        no   \n",
      "3  no-recurrence-events  60-69      ge40      15-19       0-2        no   \n",
      "4  no-recurrence-events  40-49   premeno        0-4       0-2        no   \n",
      "\n",
      "   deg-malig breast breast-quad irradiat  \n",
      "0          3   left    left_low       no  \n",
      "1          2  right    right_up       no  \n",
      "2          2   left    left_low       no  \n",
      "3          2  right     left_up       no  \n",
      "4          2  right   right_low       no  \n"
     ]
    }
   ],
   "source": [
    "df = pd.read_csv('breast-cancer-modified.csv') # \n",
    "print(\"Dataframe shape: \",df.shape,\"\\n\") # \n",
    "print(df.head())"
   ]
  },
  {
   "cell_type": "code",
   "execution_count": 45,
   "metadata": {},
   "outputs": [
    {
     "data": {
      "text/plain": [
       "array(['no-recurrence-events', 'recurrence-events'], dtype=object)"
      ]
     },
     "execution_count": 45,
     "metadata": {},
     "output_type": "execute_result"
    }
   ],
   "source": [
    "df['Class'].unique()"
   ]
  },
  {
   "cell_type": "code",
   "execution_count": 46,
   "metadata": {
    "collapsed": true
   },
   "outputs": [],
   "source": [
    "s = pd.Categorical(df['age'], categories=[\"10-19\", \"20-29\", \"30-39\", \"40-49\", \"50-59\", \"60-69\", \"70-79\", \"80-89\", \"90-99\"])"
   ]
  },
  {
   "cell_type": "code",
   "execution_count": 47,
   "metadata": {
    "collapsed": true
   },
   "outputs": [],
   "source": [
    "df['Class'] = pd.Categorical(df['Class'], categories=['no-recurrence-events', 'recurrence-events'], ordered=True)"
   ]
  },
  {
   "cell_type": "code",
   "execution_count": 48,
   "metadata": {
    "collapsed": true
   },
   "outputs": [],
   "source": [
    "# df['age'] = df['age'].astype('category')\n",
    "df['age'] = pd.Categorical(df['age'], categories=[\"10-19\", \"20-29\", \"30-39\", \"40-49\", \"50-59\", \"60-69\", \"70-79\", \"80-89\", \"90-99\"])\n",
    "# ser.astype('category', ordered=True, categories=[\"10-19\", \"20-29\", \"30-39\", \"40-49\", \"50-59\", \"60-69\", \"70-79\", \"80-89\", \"90-99\"])\n"
   ]
  },
  {
   "cell_type": "code",
   "execution_count": 49,
   "metadata": {
    "collapsed": true
   },
   "outputs": [],
   "source": [
    "df['menopause'] = pd.Categorical(df['menopause'], categories=[\"lt40\", \"ge40\", \"premeno\"])"
   ]
  },
  {
   "cell_type": "code",
   "execution_count": 50,
   "metadata": {
    "collapsed": true
   },
   "outputs": [],
   "source": [
    "df['tumor-size'] = pd.Categorical(df['tumor-size'], categories=[\"0-4\", \"5-9\", \"10-14\", \"15-19\", \"20-24\", \"25-29\", \"30-34\", \"35-39\", \"40-44\",\n",
    "                  \"45-49\", \"50-54\", \"55-59\"])"
   ]
  },
  {
   "cell_type": "code",
   "execution_count": 51,
   "metadata": {
    "collapsed": true
   },
   "outputs": [],
   "source": [
    "df['inv-nodes'] = pd.Categorical(df['inv-nodes'],categories=[\"0-2\", \"3-5\", \"6-8\", \"9-11\", \"12-14\", \"15-17\", \"18-20\", \"21-23\", \"24-26\",\n",
    "                 \"27-29\", \"30-32\", \"33-35\", \"36-39\"])"
   ]
  },
  {
   "cell_type": "code",
   "execution_count": 52,
   "metadata": {
    "collapsed": true
   },
   "outputs": [],
   "source": [
    "df['node-caps'] = pd.Categorical(df['node-caps'], categories=[\"yes\", \"no\"])"
   ]
  },
  {
   "cell_type": "code",
   "execution_count": 53,
   "metadata": {
    "collapsed": true
   },
   "outputs": [],
   "source": [
    "df['deg-malig'] = pd.Categorical(df['deg-malig'], categories=[1, 2, 3])\n"
   ]
  },
  {
   "cell_type": "code",
   "execution_count": 54,
   "metadata": {},
   "outputs": [
    {
     "data": {
      "text/plain": [
       "0      3\n",
       "1      2\n",
       "2      2\n",
       "3      2\n",
       "4      2\n",
       "5      2\n",
       "6      2\n",
       "7      1\n",
       "8      2\n",
       "9      2\n",
       "10     3\n",
       "11     2\n",
       "12     1\n",
       "13     3\n",
       "14     3\n",
       "15     1\n",
       "16     2\n",
       "17     3\n",
       "18     3\n",
       "19     1\n",
       "20     2\n",
       "21     2\n",
       "22     2\n",
       "23     2\n",
       "24     2\n",
       "25     2\n",
       "26     1\n",
       "27     3\n",
       "28     2\n",
       "29     2\n",
       "      ..\n",
       "247    3\n",
       "248    3\n",
       "249    1\n",
       "250    2\n",
       "251    2\n",
       "252    3\n",
       "253    2\n",
       "254    3\n",
       "255    3\n",
       "256    3\n",
       "257    2\n",
       "258    3\n",
       "259    3\n",
       "260    2\n",
       "261    3\n",
       "262    3\n",
       "263    3\n",
       "264    2\n",
       "265    2\n",
       "266    3\n",
       "267    3\n",
       "268    3\n",
       "269    3\n",
       "270    3\n",
       "271    3\n",
       "272    2\n",
       "273    3\n",
       "274    1\n",
       "275    3\n",
       "276    3\n",
       "Name: deg-malig, Length: 277, dtype: category\n",
       "Categories (3, int64): [1, 2, 3]"
      ]
     },
     "execution_count": 54,
     "metadata": {},
     "output_type": "execute_result"
    }
   ],
   "source": [
    "df['deg-malig']"
   ]
  },
  {
   "cell_type": "code",
   "execution_count": 55,
   "metadata": {
    "collapsed": true
   },
   "outputs": [],
   "source": [
    "df['breast'] = pd.Categorical(df['breast'], categories=[\"left\", \"right\"])"
   ]
  },
  {
   "cell_type": "code",
   "execution_count": 56,
   "metadata": {},
   "outputs": [
    {
     "data": {
      "text/plain": [
       "array(['left_low', 'right_up', 'left_up', 'right_low', 'central'], dtype=object)"
      ]
     },
     "execution_count": 56,
     "metadata": {},
     "output_type": "execute_result"
    }
   ],
   "source": [
    "df['breast-quad'].unique()"
   ]
  },
  {
   "cell_type": "code",
   "execution_count": 57,
   "metadata": {
    "collapsed": true
   },
   "outputs": [],
   "source": [
    "df['breast-quad'] = pd.Categorical(df['breast-quad'], categories=[\"left_up\", \"left_low\", \"right_up\",\"right_low\",\"central\"])"
   ]
  },
  {
   "cell_type": "code",
   "execution_count": 58,
   "metadata": {
    "collapsed": true
   },
   "outputs": [],
   "source": [
    "df['irradiat'] = pd.Categorical(df['irradiat'], categories=[\"yes\", \"no\"])"
   ]
  },
  {
   "cell_type": "code",
   "execution_count": 59,
   "metadata": {},
   "outputs": [
    {
     "data": {
      "text/plain": [
       "Class          category\n",
       "age            category\n",
       "menopause      category\n",
       "tumor-size     category\n",
       "inv-nodes      category\n",
       "node-caps      category\n",
       "deg-malig      category\n",
       "breast         category\n",
       "breast-quad    category\n",
       "irradiat       category\n",
       "dtype: object"
      ]
     },
     "execution_count": 59,
     "metadata": {},
     "output_type": "execute_result"
    }
   ],
   "source": [
    "df.dtypes"
   ]
  },
  {
   "cell_type": "code",
   "execution_count": 60,
   "metadata": {},
   "outputs": [
    {
     "data": {
      "text/html": [
       "<div>\n",
       "<style>\n",
       "    .dataframe thead tr:only-child th {\n",
       "        text-align: right;\n",
       "    }\n",
       "\n",
       "    .dataframe thead th {\n",
       "        text-align: left;\n",
       "    }\n",
       "\n",
       "    .dataframe tbody tr th {\n",
       "        vertical-align: top;\n",
       "    }\n",
       "</style>\n",
       "<table border=\"1\" class=\"dataframe\">\n",
       "  <thead>\n",
       "    <tr style=\"text-align: right;\">\n",
       "      <th></th>\n",
       "      <th>Class</th>\n",
       "      <th>age</th>\n",
       "      <th>menopause</th>\n",
       "      <th>tumor-size</th>\n",
       "      <th>inv-nodes</th>\n",
       "      <th>node-caps</th>\n",
       "      <th>deg-malig</th>\n",
       "      <th>breast</th>\n",
       "      <th>breast-quad</th>\n",
       "      <th>irradiat</th>\n",
       "    </tr>\n",
       "  </thead>\n",
       "  <tbody>\n",
       "    <tr>\n",
       "      <th>0</th>\n",
       "      <td>no-recurrence-events</td>\n",
       "      <td>30-39</td>\n",
       "      <td>premeno</td>\n",
       "      <td>30-34</td>\n",
       "      <td>0-2</td>\n",
       "      <td>no</td>\n",
       "      <td>3</td>\n",
       "      <td>left</td>\n",
       "      <td>left_low</td>\n",
       "      <td>no</td>\n",
       "    </tr>\n",
       "    <tr>\n",
       "      <th>1</th>\n",
       "      <td>no-recurrence-events</td>\n",
       "      <td>40-49</td>\n",
       "      <td>premeno</td>\n",
       "      <td>20-24</td>\n",
       "      <td>0-2</td>\n",
       "      <td>no</td>\n",
       "      <td>2</td>\n",
       "      <td>right</td>\n",
       "      <td>right_up</td>\n",
       "      <td>no</td>\n",
       "    </tr>\n",
       "    <tr>\n",
       "      <th>2</th>\n",
       "      <td>no-recurrence-events</td>\n",
       "      <td>40-49</td>\n",
       "      <td>premeno</td>\n",
       "      <td>20-24</td>\n",
       "      <td>0-2</td>\n",
       "      <td>no</td>\n",
       "      <td>2</td>\n",
       "      <td>left</td>\n",
       "      <td>left_low</td>\n",
       "      <td>no</td>\n",
       "    </tr>\n",
       "    <tr>\n",
       "      <th>3</th>\n",
       "      <td>no-recurrence-events</td>\n",
       "      <td>60-69</td>\n",
       "      <td>ge40</td>\n",
       "      <td>15-19</td>\n",
       "      <td>0-2</td>\n",
       "      <td>no</td>\n",
       "      <td>2</td>\n",
       "      <td>right</td>\n",
       "      <td>left_up</td>\n",
       "      <td>no</td>\n",
       "    </tr>\n",
       "    <tr>\n",
       "      <th>4</th>\n",
       "      <td>no-recurrence-events</td>\n",
       "      <td>40-49</td>\n",
       "      <td>premeno</td>\n",
       "      <td>0-4</td>\n",
       "      <td>0-2</td>\n",
       "      <td>no</td>\n",
       "      <td>2</td>\n",
       "      <td>right</td>\n",
       "      <td>right_low</td>\n",
       "      <td>no</td>\n",
       "    </tr>\n",
       "  </tbody>\n",
       "</table>\n",
       "</div>"
      ],
      "text/plain": [
       "                  Class    age menopause tumor-size inv-nodes node-caps  \\\n",
       "0  no-recurrence-events  30-39   premeno      30-34       0-2        no   \n",
       "1  no-recurrence-events  40-49   premeno      20-24       0-2        no   \n",
       "2  no-recurrence-events  40-49   premeno      20-24       0-2        no   \n",
       "3  no-recurrence-events  60-69      ge40      15-19       0-2        no   \n",
       "4  no-recurrence-events  40-49   premeno        0-4       0-2        no   \n",
       "\n",
       "  deg-malig breast breast-quad irradiat  \n",
       "0         3   left    left_low       no  \n",
       "1         2  right    right_up       no  \n",
       "2         2   left    left_low       no  \n",
       "3         2  right     left_up       no  \n",
       "4         2  right   right_low       no  "
      ]
     },
     "execution_count": 60,
     "metadata": {},
     "output_type": "execute_result"
    }
   ],
   "source": [
    "df.head()"
   ]
  },
  {
   "cell_type": "code",
   "execution_count": 61,
   "metadata": {},
   "outputs": [
    {
     "data": {
      "text/html": [
       "<div>\n",
       "<style>\n",
       "    .dataframe thead tr:only-child th {\n",
       "        text-align: right;\n",
       "    }\n",
       "\n",
       "    .dataframe thead th {\n",
       "        text-align: left;\n",
       "    }\n",
       "\n",
       "    .dataframe tbody tr th {\n",
       "        vertical-align: top;\n",
       "    }\n",
       "</style>\n",
       "<table border=\"1\" class=\"dataframe\">\n",
       "  <thead>\n",
       "    <tr style=\"text-align: right;\">\n",
       "      <th></th>\n",
       "      <th>Class</th>\n",
       "      <th>age</th>\n",
       "      <th>menopause</th>\n",
       "      <th>tumor-size</th>\n",
       "      <th>inv-nodes</th>\n",
       "      <th>node-caps</th>\n",
       "      <th>deg-malig</th>\n",
       "      <th>breast</th>\n",
       "      <th>breast-quad</th>\n",
       "      <th>irradiat</th>\n",
       "    </tr>\n",
       "  </thead>\n",
       "  <tbody>\n",
       "    <tr>\n",
       "      <th>count</th>\n",
       "      <td>277</td>\n",
       "      <td>277</td>\n",
       "      <td>277</td>\n",
       "      <td>277</td>\n",
       "      <td>277</td>\n",
       "      <td>277</td>\n",
       "      <td>277</td>\n",
       "      <td>277</td>\n",
       "      <td>277</td>\n",
       "      <td>277</td>\n",
       "    </tr>\n",
       "    <tr>\n",
       "      <th>unique</th>\n",
       "      <td>2</td>\n",
       "      <td>6</td>\n",
       "      <td>3</td>\n",
       "      <td>11</td>\n",
       "      <td>7</td>\n",
       "      <td>2</td>\n",
       "      <td>3</td>\n",
       "      <td>2</td>\n",
       "      <td>5</td>\n",
       "      <td>2</td>\n",
       "    </tr>\n",
       "    <tr>\n",
       "      <th>top</th>\n",
       "      <td>no-recurrence-events</td>\n",
       "      <td>50-59</td>\n",
       "      <td>premeno</td>\n",
       "      <td>30-34</td>\n",
       "      <td>0-2</td>\n",
       "      <td>no</td>\n",
       "      <td>2</td>\n",
       "      <td>left</td>\n",
       "      <td>left_low</td>\n",
       "      <td>no</td>\n",
       "    </tr>\n",
       "    <tr>\n",
       "      <th>freq</th>\n",
       "      <td>196</td>\n",
       "      <td>91</td>\n",
       "      <td>149</td>\n",
       "      <td>57</td>\n",
       "      <td>209</td>\n",
       "      <td>221</td>\n",
       "      <td>129</td>\n",
       "      <td>145</td>\n",
       "      <td>106</td>\n",
       "      <td>215</td>\n",
       "    </tr>\n",
       "  </tbody>\n",
       "</table>\n",
       "</div>"
      ],
      "text/plain": [
       "                       Class    age menopause tumor-size inv-nodes node-caps  \\\n",
       "count                    277    277       277        277       277       277   \n",
       "unique                     2      6         3         11         7         2   \n",
       "top     no-recurrence-events  50-59   premeno      30-34       0-2        no   \n",
       "freq                     196     91       149         57       209       221   \n",
       "\n",
       "        deg-malig breast breast-quad irradiat  \n",
       "count         277    277         277      277  \n",
       "unique          3      2           5        2  \n",
       "top             2   left    left_low       no  \n",
       "freq          129    145         106      215  "
      ]
     },
     "execution_count": 61,
     "metadata": {},
     "output_type": "execute_result"
    }
   ],
   "source": [
    "df.describe()"
   ]
  },
  {
   "cell_type": "code",
   "execution_count": 62,
   "metadata": {},
   "outputs": [
    {
     "data": {
      "text/plain": [
       "Index(['Class', 'age', 'menopause', 'tumor-size', 'inv-nodes', 'node-caps',\n",
       "       'deg-malig', 'breast', 'breast-quad', 'irradiat'],\n",
       "      dtype='object')"
      ]
     },
     "execution_count": 62,
     "metadata": {},
     "output_type": "execute_result"
    }
   ],
   "source": [
    "df.columns"
   ]
  },
  {
   "cell_type": "code",
   "execution_count": 63,
   "metadata": {
    "collapsed": true
   },
   "outputs": [],
   "source": [
    "X2 = ['age', 'menopause', 'tumor-size', 'inv-nodes', \n",
    "       'deg-malig', 'breast', 'breast-quad', 'node-caps','irradiat']\n",
    "y2 =[\"Class\"]"
   ]
  },
  {
   "cell_type": "code",
   "execution_count": 64,
   "metadata": {},
   "outputs": [
    {
     "data": {
      "text/plain": [
       "['age',\n",
       " 'menopause',\n",
       " 'tumor-size',\n",
       " 'inv-nodes',\n",
       " 'deg-malig',\n",
       " 'breast',\n",
       " 'breast-quad',\n",
       " 'node-caps',\n",
       " 'irradiat']"
      ]
     },
     "execution_count": 64,
     "metadata": {},
     "output_type": "execute_result"
    }
   ],
   "source": [
    "X2"
   ]
  },
  {
   "cell_type": "code",
   "execution_count": 65,
   "metadata": {},
   "outputs": [
    {
     "data": {
      "text/plain": [
       "['Class']"
      ]
     },
     "execution_count": 65,
     "metadata": {},
     "output_type": "execute_result"
    }
   ],
   "source": [
    "y2 "
   ]
  },
  {
   "cell_type": "code",
   "execution_count": 66,
   "metadata": {
    "collapsed": true
   },
   "outputs": [],
   "source": [
    "# The following two are equivalent\n",
    "df.loc[:, y2]\n",
    "df_Y = df[y2]"
   ]
  },
  {
   "cell_type": "code",
   "execution_count": 67,
   "metadata": {
    "collapsed": true
   },
   "outputs": [],
   "source": [
    "df_Y = df[y2]\n",
    "df_X = df.loc[:, X2]"
   ]
  },
  {
   "cell_type": "code",
   "execution_count": 240,
   "metadata": {
    "collapsed": true
   },
   "outputs": [],
   "source": [
    "# dataset = np.array('breast-cancer-modified.data.csv')\n"
   ]
  },
  {
   "cell_type": "code",
   "execution_count": null,
   "metadata": {
    "collapsed": true
   },
   "outputs": [],
   "source": [
    "# le = preprocessing.LabelEncoder()\n",
    "# X2 = df_X.apply(le.fit_transform)\n",
    "# X2"
   ]
  },
  {
   "cell_type": "code",
   "execution_count": null,
   "metadata": {
    "collapsed": true
   },
   "outputs": [],
   "source": [
    "# Y2= df_Y.apply(le.fit_transform)\n",
    "# Y2"
   ]
  },
  {
   "cell_type": "markdown",
   "metadata": {},
   "source": [
    "We use encoding for nominal data. We create a column for each value and use values 0, 1 etc. to denote expression of each value."
   ]
  },
  {
   "cell_type": "code",
   "execution_count": 68,
   "metadata": {},
   "outputs": [
    {
     "data": {
      "text/html": [
       "<div>\n",
       "<style>\n",
       "    .dataframe thead tr:only-child th {\n",
       "        text-align: right;\n",
       "    }\n",
       "\n",
       "    .dataframe thead th {\n",
       "        text-align: left;\n",
       "    }\n",
       "\n",
       "    .dataframe tbody tr th {\n",
       "        vertical-align: top;\n",
       "    }\n",
       "</style>\n",
       "<table border=\"1\" class=\"dataframe\">\n",
       "  <thead>\n",
       "    <tr style=\"text-align: right;\">\n",
       "      <th></th>\n",
       "      <th>Class</th>\n",
       "      <th>age</th>\n",
       "      <th>menopause</th>\n",
       "      <th>tumor-size</th>\n",
       "      <th>inv-nodes</th>\n",
       "      <th>node-caps</th>\n",
       "      <th>deg-malig</th>\n",
       "      <th>breast</th>\n",
       "      <th>breast-quad</th>\n",
       "      <th>irradiat</th>\n",
       "    </tr>\n",
       "  </thead>\n",
       "  <tbody>\n",
       "    <tr>\n",
       "      <th>0</th>\n",
       "      <td>0</td>\n",
       "      <td>1</td>\n",
       "      <td>2</td>\n",
       "      <td>5</td>\n",
       "      <td>0</td>\n",
       "      <td>0</td>\n",
       "      <td>2</td>\n",
       "      <td>0</td>\n",
       "      <td>1</td>\n",
       "      <td>0</td>\n",
       "    </tr>\n",
       "    <tr>\n",
       "      <th>1</th>\n",
       "      <td>0</td>\n",
       "      <td>2</td>\n",
       "      <td>2</td>\n",
       "      <td>3</td>\n",
       "      <td>0</td>\n",
       "      <td>0</td>\n",
       "      <td>1</td>\n",
       "      <td>1</td>\n",
       "      <td>4</td>\n",
       "      <td>0</td>\n",
       "    </tr>\n",
       "    <tr>\n",
       "      <th>2</th>\n",
       "      <td>0</td>\n",
       "      <td>2</td>\n",
       "      <td>2</td>\n",
       "      <td>3</td>\n",
       "      <td>0</td>\n",
       "      <td>0</td>\n",
       "      <td>1</td>\n",
       "      <td>0</td>\n",
       "      <td>1</td>\n",
       "      <td>0</td>\n",
       "    </tr>\n",
       "    <tr>\n",
       "      <th>3</th>\n",
       "      <td>0</td>\n",
       "      <td>4</td>\n",
       "      <td>0</td>\n",
       "      <td>2</td>\n",
       "      <td>0</td>\n",
       "      <td>0</td>\n",
       "      <td>1</td>\n",
       "      <td>1</td>\n",
       "      <td>2</td>\n",
       "      <td>0</td>\n",
       "    </tr>\n",
       "    <tr>\n",
       "      <th>4</th>\n",
       "      <td>0</td>\n",
       "      <td>2</td>\n",
       "      <td>2</td>\n",
       "      <td>0</td>\n",
       "      <td>0</td>\n",
       "      <td>0</td>\n",
       "      <td>1</td>\n",
       "      <td>1</td>\n",
       "      <td>3</td>\n",
       "      <td>0</td>\n",
       "    </tr>\n",
       "  </tbody>\n",
       "</table>\n",
       "</div>"
      ],
      "text/plain": [
       "   Class  age  menopause  tumor-size  inv-nodes  node-caps  deg-malig  breast  \\\n",
       "0      0    1          2           5          0          0          2       0   \n",
       "1      0    2          2           3          0          0          1       1   \n",
       "2      0    2          2           3          0          0          1       0   \n",
       "3      0    4          0           2          0          0          1       1   \n",
       "4      0    2          2           0          0          0          1       1   \n",
       "\n",
       "   breast-quad  irradiat  \n",
       "0            1         0  \n",
       "1            4         0  \n",
       "2            1         0  \n",
       "3            2         0  \n",
       "4            3         0  "
      ]
     },
     "execution_count": 68,
     "metadata": {},
     "output_type": "execute_result"
    }
   ],
   "source": [
    "from sklearn.preprocessing import LabelEncoder\n",
    "\n",
    "df_encoded = df.select_dtypes(exclude=['number']) \\\n",
    "                .apply(LabelEncoder().fit_transform)\n",
    "df_encoded.head()"
   ]
  },
  {
   "cell_type": "code",
   "execution_count": 69,
   "metadata": {},
   "outputs": [
    {
     "data": {
      "text/html": [
       "<div>\n",
       "<style>\n",
       "    .dataframe thead tr:only-child th {\n",
       "        text-align: right;\n",
       "    }\n",
       "\n",
       "    .dataframe thead th {\n",
       "        text-align: left;\n",
       "    }\n",
       "\n",
       "    .dataframe tbody tr th {\n",
       "        vertical-align: top;\n",
       "    }\n",
       "</style>\n",
       "<table border=\"1\" class=\"dataframe\">\n",
       "  <thead>\n",
       "    <tr style=\"text-align: right;\">\n",
       "      <th></th>\n",
       "      <th>Class</th>\n",
       "      <th>age</th>\n",
       "      <th>menopause</th>\n",
       "      <th>tumor-size</th>\n",
       "      <th>inv-nodes</th>\n",
       "      <th>node-caps</th>\n",
       "      <th>deg-malig</th>\n",
       "      <th>breast</th>\n",
       "      <th>breast-quad</th>\n",
       "      <th>irradiat</th>\n",
       "    </tr>\n",
       "  </thead>\n",
       "  <tbody>\n",
       "    <tr>\n",
       "      <th>0</th>\n",
       "      <td>no-recurrence-events</td>\n",
       "      <td>30-39</td>\n",
       "      <td>premeno</td>\n",
       "      <td>30-34</td>\n",
       "      <td>0-2</td>\n",
       "      <td>no</td>\n",
       "      <td>3</td>\n",
       "      <td>left</td>\n",
       "      <td>left_low</td>\n",
       "      <td>no</td>\n",
       "    </tr>\n",
       "    <tr>\n",
       "      <th>1</th>\n",
       "      <td>no-recurrence-events</td>\n",
       "      <td>40-49</td>\n",
       "      <td>premeno</td>\n",
       "      <td>20-24</td>\n",
       "      <td>0-2</td>\n",
       "      <td>no</td>\n",
       "      <td>2</td>\n",
       "      <td>right</td>\n",
       "      <td>right_up</td>\n",
       "      <td>no</td>\n",
       "    </tr>\n",
       "    <tr>\n",
       "      <th>2</th>\n",
       "      <td>no-recurrence-events</td>\n",
       "      <td>40-49</td>\n",
       "      <td>premeno</td>\n",
       "      <td>20-24</td>\n",
       "      <td>0-2</td>\n",
       "      <td>no</td>\n",
       "      <td>2</td>\n",
       "      <td>left</td>\n",
       "      <td>left_low</td>\n",
       "      <td>no</td>\n",
       "    </tr>\n",
       "    <tr>\n",
       "      <th>3</th>\n",
       "      <td>no-recurrence-events</td>\n",
       "      <td>60-69</td>\n",
       "      <td>ge40</td>\n",
       "      <td>15-19</td>\n",
       "      <td>0-2</td>\n",
       "      <td>no</td>\n",
       "      <td>2</td>\n",
       "      <td>right</td>\n",
       "      <td>left_up</td>\n",
       "      <td>no</td>\n",
       "    </tr>\n",
       "    <tr>\n",
       "      <th>4</th>\n",
       "      <td>no-recurrence-events</td>\n",
       "      <td>40-49</td>\n",
       "      <td>premeno</td>\n",
       "      <td>0-4</td>\n",
       "      <td>0-2</td>\n",
       "      <td>no</td>\n",
       "      <td>2</td>\n",
       "      <td>right</td>\n",
       "      <td>right_low</td>\n",
       "      <td>no</td>\n",
       "    </tr>\n",
       "  </tbody>\n",
       "</table>\n",
       "</div>"
      ],
      "text/plain": [
       "                  Class    age menopause tumor-size inv-nodes node-caps  \\\n",
       "0  no-recurrence-events  30-39   premeno      30-34       0-2        no   \n",
       "1  no-recurrence-events  40-49   premeno      20-24       0-2        no   \n",
       "2  no-recurrence-events  40-49   premeno      20-24       0-2        no   \n",
       "3  no-recurrence-events  60-69      ge40      15-19       0-2        no   \n",
       "4  no-recurrence-events  40-49   premeno        0-4       0-2        no   \n",
       "\n",
       "  deg-malig breast breast-quad irradiat  \n",
       "0         3   left    left_low       no  \n",
       "1         2  right    right_up       no  \n",
       "2         2   left    left_low       no  \n",
       "3         2  right     left_up       no  \n",
       "4         2  right   right_low       no  "
      ]
     },
     "execution_count": 69,
     "metadata": {},
     "output_type": "execute_result"
    }
   ],
   "source": [
    "df.head()"
   ]
  },
  {
   "cell_type": "code",
   "execution_count": 70,
   "metadata": {
    "collapsed": true
   },
   "outputs": [],
   "source": [
    "df_Y = df_encoded[y2]\n",
    "df_X = df_encoded.loc[:, X2]"
   ]
  },
  {
   "cell_type": "code",
   "execution_count": 71,
   "metadata": {},
   "outputs": [
    {
     "data": {
      "text/plain": [
       "(277, 1)"
      ]
     },
     "execution_count": 71,
     "metadata": {},
     "output_type": "execute_result"
    }
   ],
   "source": [
    "df_Y.shape"
   ]
  },
  {
   "cell_type": "code",
   "execution_count": 72,
   "metadata": {},
   "outputs": [
    {
     "data": {
      "text/plain": [
       "<matplotlib.axes._subplots.AxesSubplot at 0x1a13f725c0>"
      ]
     },
     "execution_count": 72,
     "metadata": {},
     "output_type": "execute_result"
    },
    {
     "data": {
      "image/png": "[encoded data removed]",
      "text/plain": [
       "<matplotlib.figure.Figure at 0x1a13f72160>"
      ]
     },
     "metadata": {},
     "output_type": "display_data"
    }
   ],
   "source": [
    "fig = plt.figure(figsize = (20,7))\n",
    "df_encoded.boxplot()"
   ]
  },
  {
   "cell_type": "code",
   "execution_count": 73,
   "metadata": {},
   "outputs": [
    {
     "data": {
      "text/html": [
       "<div>\n",
       "<style>\n",
       "    .dataframe thead tr:only-child th {\n",
       "        text-align: right;\n",
       "    }\n",
       "\n",
       "    .dataframe thead th {\n",
       "        text-align: left;\n",
       "    }\n",
       "\n",
       "    .dataframe tbody tr th {\n",
       "        vertical-align: top;\n",
       "    }\n",
       "</style>\n",
       "<table border=\"1\" class=\"dataframe\">\n",
       "  <thead>\n",
       "    <tr style=\"text-align: right;\">\n",
       "      <th></th>\n",
       "      <th>Class</th>\n",
       "      <th>age</th>\n",
       "      <th>menopause</th>\n",
       "      <th>tumor-size</th>\n",
       "      <th>inv-nodes</th>\n",
       "      <th>node-caps</th>\n",
       "      <th>deg-malig</th>\n",
       "      <th>breast</th>\n",
       "      <th>breast-quad</th>\n",
       "      <th>irradiat</th>\n",
       "    </tr>\n",
       "  </thead>\n",
       "  <tbody>\n",
       "    <tr>\n",
       "      <th>Class</th>\n",
       "      <td>1.000000</td>\n",
       "      <td>-0.086981</td>\n",
       "      <td>0.059512</td>\n",
       "      <td>0.143968</td>\n",
       "      <td>0.325523</td>\n",
       "      <td>0.289002</td>\n",
       "      <td>0.330253</td>\n",
       "      <td>-0.041304</td>\n",
       "      <td>0.059788</td>\n",
       "      <td>0.226020</td>\n",
       "    </tr>\n",
       "    <tr>\n",
       "      <th>age</th>\n",
       "      <td>-0.086981</td>\n",
       "      <td>1.000000</td>\n",
       "      <td>-0.717573</td>\n",
       "      <td>-0.008578</td>\n",
       "      <td>-0.089014</td>\n",
       "      <td>-0.044446</td>\n",
       "      <td>-0.065260</td>\n",
       "      <td>-0.041744</td>\n",
       "      <td>-0.036234</td>\n",
       "      <td>-0.075946</td>\n",
       "    </tr>\n",
       "    <tr>\n",
       "      <th>menopause</th>\n",
       "      <td>0.059512</td>\n",
       "      <td>-0.717573</td>\n",
       "      <td>1.000000</td>\n",
       "      <td>-0.003001</td>\n",
       "      <td>0.020757</td>\n",
       "      <td>0.025001</td>\n",
       "      <td>-0.047721</td>\n",
       "      <td>0.055761</td>\n",
       "      <td>0.075289</td>\n",
       "      <td>0.071825</td>\n",
       "    </tr>\n",
       "    <tr>\n",
       "      <th>tumor-size</th>\n",
       "      <td>0.143968</td>\n",
       "      <td>-0.008578</td>\n",
       "      <td>-0.003001</td>\n",
       "      <td>1.000000</td>\n",
       "      <td>0.157523</td>\n",
       "      <td>0.166014</td>\n",
       "      <td>0.152436</td>\n",
       "      <td>0.029738</td>\n",
       "      <td>0.154654</td>\n",
       "      <td>0.166291</td>\n",
       "    </tr>\n",
       "    <tr>\n",
       "      <th>inv-nodes</th>\n",
       "      <td>0.325523</td>\n",
       "      <td>-0.089014</td>\n",
       "      <td>0.020757</td>\n",
       "      <td>0.157523</td>\n",
       "      <td>1.000000</td>\n",
       "      <td>0.672745</td>\n",
       "      <td>0.306197</td>\n",
       "      <td>0.031232</td>\n",
       "      <td>0.033165</td>\n",
       "      <td>0.342650</td>\n",
       "    </tr>\n",
       "    <tr>\n",
       "      <th>node-caps</th>\n",
       "      <td>0.289002</td>\n",
       "      <td>-0.044446</td>\n",
       "      <td>0.025001</td>\n",
       "      <td>0.166014</td>\n",
       "      <td>0.672745</td>\n",
       "      <td>1.000000</td>\n",
       "      <td>0.330181</td>\n",
       "      <td>-0.012345</td>\n",
       "      <td>0.065050</td>\n",
       "      <td>0.333537</td>\n",
       "    </tr>\n",
       "    <tr>\n",
       "      <th>deg-malig</th>\n",
       "      <td>0.330253</td>\n",
       "      <td>-0.065260</td>\n",
       "      <td>-0.047721</td>\n",
       "      <td>0.152436</td>\n",
       "      <td>0.306197</td>\n",
       "      <td>0.330181</td>\n",
       "      <td>1.000000</td>\n",
       "      <td>-0.045874</td>\n",
       "      <td>0.038025</td>\n",
       "      <td>0.230821</td>\n",
       "    </tr>\n",
       "    <tr>\n",
       "      <th>breast</th>\n",
       "      <td>-0.041304</td>\n",
       "      <td>-0.041744</td>\n",
       "      <td>0.055761</td>\n",
       "      <td>0.029738</td>\n",
       "      <td>0.031232</td>\n",
       "      <td>-0.012345</td>\n",
       "      <td>-0.045874</td>\n",
       "      <td>1.000000</td>\n",
       "      <td>0.211900</td>\n",
       "      <td>0.025230</td>\n",
       "    </tr>\n",
       "    <tr>\n",
       "      <th>breast-quad</th>\n",
       "      <td>0.059788</td>\n",
       "      <td>-0.036234</td>\n",
       "      <td>0.075289</td>\n",
       "      <td>0.154654</td>\n",
       "      <td>0.033165</td>\n",
       "      <td>0.065050</td>\n",
       "      <td>0.038025</td>\n",
       "      <td>0.211900</td>\n",
       "      <td>1.000000</td>\n",
       "      <td>0.017440</td>\n",
       "    </tr>\n",
       "    <tr>\n",
       "      <th>irradiat</th>\n",
       "      <td>0.226020</td>\n",
       "      <td>-0.075946</td>\n",
       "      <td>0.071825</td>\n",
       "      <td>0.166291</td>\n",
       "      <td>0.342650</td>\n",
       "      <td>0.333537</td>\n",
       "      <td>0.230821</td>\n",
       "      <td>0.025230</td>\n",
       "      <td>0.017440</td>\n",
       "      <td>1.000000</td>\n",
       "    </tr>\n",
       "  </tbody>\n",
       "</table>\n",
       "</div>"
      ],
      "text/plain": [
       "                Class       age  menopause  tumor-size  inv-nodes  node-caps  \\\n",
       "Class        1.000000 -0.086981   0.059512    0.143968   0.325523   0.289002   \n",
       "age         -0.086981  1.000000  -0.717573   -0.008578  -0.089014  -0.044446   \n",
       "menopause    0.059512 -0.717573   1.000000   -0.003001   0.020757   0.025001   \n",
       "tumor-size   0.143968 -0.008578  -0.003001    1.000000   0.157523   0.166014   \n",
       "inv-nodes    0.325523 -0.089014   0.020757    0.157523   1.000000   0.672745   \n",
       "node-caps    0.289002 -0.044446   0.025001    0.166014   0.672745   1.000000   \n",
       "deg-malig    0.330253 -0.065260  -0.047721    0.152436   0.306197   0.330181   \n",
       "breast      -0.041304 -0.041744   0.055761    0.029738   0.031232  -0.012345   \n",
       "breast-quad  0.059788 -0.036234   0.075289    0.154654   0.033165   0.065050   \n",
       "irradiat     0.226020 -0.075946   0.071825    0.166291   0.342650   0.333537   \n",
       "\n",
       "             deg-malig    breast  breast-quad  irradiat  \n",
       "Class         0.330253 -0.041304     0.059788  0.226020  \n",
       "age          -0.065260 -0.041744    -0.036234 -0.075946  \n",
       "menopause    -0.047721  0.055761     0.075289  0.071825  \n",
       "tumor-size    0.152436  0.029738     0.154654  0.166291  \n",
       "inv-nodes     0.306197  0.031232     0.033165  0.342650  \n",
       "node-caps     0.330181 -0.012345     0.065050  0.333537  \n",
       "deg-malig     1.000000 -0.045874     0.038025  0.230821  \n",
       "breast       -0.045874  1.000000     0.211900  0.025230  \n",
       "breast-quad   0.038025  0.211900     1.000000  0.017440  \n",
       "irradiat      0.230821  0.025230     0.017440  1.000000  "
      ]
     },
     "execution_count": 73,
     "metadata": {},
     "output_type": "execute_result"
    }
   ],
   "source": [
    "import matplotlib.pyplot as plt\n",
    "\n",
    "df_encoded.corr()"
   ]
  },
  {
   "cell_type": "code",
   "execution_count": 74,
   "metadata": {},
   "outputs": [
    {
     "name": "stdout",
     "output_type": "stream",
     "text": [
      "df_X_train shape:  (207, 9)\n",
      "df_Y_train shape:  (207, 1)\n",
      "df_X_testshape:  (70, 9)\n",
      "df_Y_test shape:  (70, 1)\n"
     ]
    }
   ],
   "source": [
    "# Prepare the dataset for classification\n",
    "from sklearn import metrics\n",
    "from sklearn import preprocessing\n",
    "from sklearn.model_selection import train_test_split\n",
    "\n",
    "# from sklearn.utils.validation import column_or_1d\n",
    "# y = column_or_1d(df_Y, warn=True)\n",
    "\n",
    "# Split data to training and test\n",
    "\n",
    "# Split X and y into X_train and X_test\n",
    "df_X_train, df_X_test, df_Y_train, df_Y_test = train_test_split(df_X, df_Y, test_size=0.25, random_state=1)\n",
    "\n",
    "# Verify that the training and test are as expected.\n",
    "print(\"df_X_train shape: \", df_X_train.shape) # 207 rows,7 column\n",
    "print(\"df_Y_train shape: \", df_Y_train.shape) # 207 rows, 1 column\n",
    "print(\"df_X_testshape: \", df_X_test.shape) # 70 rows, 7 columns\n",
    "print(\"df_Y_test shape: \", df_Y_test.shape) # 70rows, 1 column\n",
    "# print(y_train)\n"
   ]
  },
  {
   "cell_type": "code",
   "execution_count": 75,
   "metadata": {},
   "outputs": [
    {
     "name": "stdout",
     "output_type": "stream",
     "text": [
      "             precision    recall  f1-score   support\n",
      "\n",
      "          0       0.76      0.92      0.83        49\n",
      "          1       0.64      0.33      0.44        21\n",
      "\n",
      "avg / total       0.72      0.74      0.71        70\n",
      "\n",
      "Confusion matrix:  [[45  4]\n",
      " [14  7]]\n"
     ]
    }
   ],
   "source": [
    "# First classification method:  Logistic Regression\n",
    "\n",
    "from sklearn import metrics\n",
    "from sklearn.linear_model import LogisticRegression\n",
    "from sklearn import preprocessing\n",
    "\n",
    "model_L = LogisticRegression()\n",
    "\n",
    "\n",
    "model_L.fit(df_X_train, df_Y_train.values.ravel())\n",
    "\n",
    "# print(model_L)\n",
    "\n",
    "# make predictions\n",
    "expected = df_Y_test\n",
    "predicted = model_L.predict(df_X_test)\n",
    "\n",
    "# summarize the fit of the model\n",
    "print(metrics.classification_report(expected, predicted))\n",
    "cm_L = metrics.confusion_matrix(expected, predicted)\n",
    "print(\"Confusion matrix: \", cm_L)"
   ]
  },
  {
   "cell_type": "markdown",
   "metadata": {},
   "source": [
    "## Bayes Classifier has an accuracy of 79%"
   ]
  },
  {
   "cell_type": "code",
   "execution_count": 76,
   "metadata": {},
   "outputs": [
    {
     "name": "stdout",
     "output_type": "stream",
     "text": [
      "             precision    recall  f1-score   support\n",
      "\n",
      "          0       0.84      0.86      0.85        49\n",
      "          1       0.65      0.62      0.63        21\n",
      "\n",
      "avg / total       0.78      0.79      0.78        70\n",
      "\n",
      "[[42  7]\n",
      " [ 8 13]]\n",
      "Test score for Naive Bayes classifier:  0.785714285714\n"
     ]
    }
   ],
   "source": [
    "## Naive Bayes Classification \n",
    "from sklearn.naive_bayes import GaussianNB\n",
    "model_naive = GaussianNB()\n",
    "\n",
    "model_naive.fit(df_X_train, df_Y_train.values.ravel())\n",
    "\n",
    "# print(model_naive)\n",
    "\n",
    "expected = df_Y_test\n",
    "predicted = model_naive.predict(df_X_test)\n",
    "\n",
    "print(metrics.classification_report(expected, predicted))\n",
    "cm_naive = metrics.confusion_matrix(expected, predicted)\n",
    "print(cm_naive)\n",
    "print(\"Test score for Naive Bayes classifier: \", model_naive.score(df_X_test, df_Y_test))"
   ]
  },
  {
   "cell_type": "code",
   "execution_count": 77,
   "metadata": {},
   "outputs": [
    {
     "name": "stdout",
     "output_type": "stream",
     "text": [
      "             precision    recall  f1-score   support\n",
      "\n",
      "          0       0.81      0.95      0.87       147\n",
      "          1       0.77      0.45      0.57        60\n",
      "\n",
      "avg / total       0.80      0.80      0.78       207\n",
      "\n",
      "[[139   8]\n",
      " [ 33  27]]\n"
     ]
    }
   ],
   "source": [
    "# k-Nearest Neighbor Classification\n",
    "\n",
    "# First let us check the training error.\n",
    "from sklearn.neighbors import KNeighborsClassifier\n",
    "\n",
    "model_Knn= KNeighborsClassifier()\n",
    "\n",
    "model_Knn.fit(df_X_train,df_Y_train.values.ravel())\n",
    "\n",
    "expected = df_Y_train\n",
    "predicted = model_Knn.predict(df_X_train)\n",
    "\n",
    "print(metrics.classification_report(expected, predicted))\n",
    "cm_knn_train = metrics.confusion_matrix(expected, predicted)\n",
    "print(cm_knn_train)"
   ]
  },
  {
   "cell_type": "code",
   "execution_count": 78,
   "metadata": {},
   "outputs": [
    {
     "name": "stdout",
     "output_type": "stream",
     "text": [
      "{'algorithm': 'auto', 'leaf_size': 30, 'metric': 'minkowski', 'metric_params': None, 'n_jobs': 1, 'n_neighbors': 5, 'p': 2, 'weights': 'uniform'}\n",
      "             precision    recall  f1-score   support\n",
      "\n",
      "          0       0.72      0.90      0.80        49\n",
      "          1       0.44      0.19      0.27        21\n",
      "\n",
      "avg / total       0.64      0.69      0.64        70\n",
      "\n",
      "[[44  5]\n",
      " [17  4]]\n"
     ]
    }
   ],
   "source": [
    "# Knn-classification. Now let us check the accuracy of the model on the test dataset.\n",
    "from sklearn.neighbors import KNeighborsClassifier\n",
    "\n",
    "model_Knn= KNeighborsClassifier()\n",
    "\n",
    "model_Knn.fit(df_X_train,df_Y_train.values.ravel())\n",
    "\n",
    "print(model_Knn.get_params())\n",
    "\n",
    "expected = df_Y_test\n",
    "predicted = model_Knn.predict(df_X_test)\n",
    "\n",
    "print(metrics.classification_report(expected, predicted))\n",
    "cm_knn = metrics.confusion_matrix(expected, predicted)\n",
    "print(cm_knn)"
   ]
  },
  {
   "cell_type": "code",
   "execution_count": 79,
   "metadata": {},
   "outputs": [
    {
     "name": "stdout",
     "output_type": "stream",
     "text": [
      "{'algorithm': 'auto', 'leaf_size': 30, 'metric': 'minkowski', 'metric_params': None, 'n_jobs': 1, 'n_neighbors': 5, 'p': 2, 'weights': 'uniform'}\n"
     ]
    },
    {
     "data": {
      "text/plain": [
       "0.68571428571428572"
      ]
     },
     "execution_count": 79,
     "metadata": {},
     "output_type": "execute_result"
    }
   ],
   "source": [
    "print(model_Knn.get_params())\n",
    "model_Knn.score(df_X_test, df_Y_test)"
   ]
  },
  {
   "cell_type": "code",
   "execution_count": 80,
   "metadata": {},
   "outputs": [
    {
     "name": "stdout",
     "output_type": "stream",
     "text": [
      "             precision    recall  f1-score   support\n",
      "\n",
      "          0       0.98      0.99      0.99       147\n",
      "          1       0.98      0.95      0.97        60\n",
      "\n",
      "avg / total       0.98      0.98      0.98       207\n",
      "\n",
      "[[146   1]\n",
      " [  3  57]]\n"
     ]
    }
   ],
   "source": [
    "# Decision Tree Classifier -- Training error\n",
    "from sklearn.tree import DecisionTreeClassifier\n",
    "\n",
    "model_tree = DecisionTreeClassifier()\n",
    "le = preprocessing.LabelEncoder()\n",
    "model_tree.fit(df_X_train,df_Y_train)\n",
    "\n",
    "# print(model_tree)\n",
    "\n",
    "# make predictions\n",
    "expected = df_Y_train\n",
    "predicted = model_tree.predict(df_X_train)\n",
    "\n",
    "# summarize the fit of the model\n",
    "print(metrics.classification_report(expected, predicted))\n",
    "cm_tree_train = metrics.confusion_matrix(expected, predicted)\n",
    "print(cm_tree_train)"
   ]
  },
  {
   "cell_type": "code",
   "execution_count": 81,
   "metadata": {},
   "outputs": [
    {
     "name": "stdout",
     "output_type": "stream",
     "text": [
      "             precision    recall  f1-score   support\n",
      "\n",
      "          0       0.73      0.76      0.74        49\n",
      "          1       0.37      0.33      0.35        21\n",
      "\n",
      "avg / total       0.62      0.63      0.62        70\n",
      "\n",
      "[[37 12]\n",
      " [14  7]]\n"
     ]
    }
   ],
   "source": [
    "# Decision Tree Classifier (TEST error)\n",
    "\n",
    "# make predictions\n",
    "expected = df_Y_test\n",
    "predicted = model_tree.predict(df_X_test)\n",
    "\n",
    "# summarize the fit of the model\n",
    "print(metrics.classification_report(expected, predicted))\n",
    "print(metrics.confusion_matrix(expected, predicted))\n",
    "cm_tree = metrics.confusion_matrix(expected, predicted)"
   ]
  },
  {
   "cell_type": "code",
   "execution_count": 82,
   "metadata": {
    "collapsed": true
   },
   "outputs": [],
   "source": [
    "def plot_cm(cm):   \n",
    "    categories = df['Class'].unique()\n",
    "    df_cm = pd.DataFrame(cm, index=categories, columns=categories)\n",
    "    fig = plt.figure(figsize=(5,5))\n",
    "    heatmap = sns.heatmap(df_cm, annot=True, fmt=\"d\",cmap=\"YlGnBu\",linecolor=\"blue\",linewidths=1.0)\n",
    "    heatmap.yaxis.set_ticklabels(heatmap.yaxis.get_ticklabels(), rotation=0, ha='right', fontsize=10)\n",
    "    heatmap.xaxis.set_ticklabels(heatmap.xaxis.get_ticklabels(), rotation=45, ha='right', fontsize=10)\n",
    "    plt.ylabel('True label')\n",
    "    plt.xlabel('Predicted label')\n",
    "    plt.show()"
   ]
  },
  {
   "cell_type": "markdown",
   "metadata": {},
   "source": [
    "### Conclusion \n",
    "\n",
    "Naive Bayes gives the highest prediction accuracy of 79%.  The confusion matrix is shown below.\n",
    "\n",
    " "
   ]
  },
  {
   "cell_type": "code",
   "execution_count": 83,
   "metadata": {},
   "outputs": [
    {
     "data": {
      "image/png": "[encoded data removed]",
      "text/plain": [
       "<matplotlib.figure.Figure at 0x1a1c361860>"
      ]
     },
     "metadata": {},
     "output_type": "display_data"
    }
   ],
   "source": [
    "plot_cm(cm_naive)"
   ]
  },
  {
   "cell_type": "markdown",
   "metadata": {},
   "source": [
    "We will next use cross validation to improve the prediction of the classifier."
   ]
  },
  {
   "cell_type": "code",
   "execution_count": 84,
   "metadata": {},
   "outputs": [
    {
     "name": "stdout",
     "output_type": "stream",
     "text": [
      "Recall:  [ 0.5         0.71875     0.8125      0.58173077  0.60416667]\n",
      "Precision:  [ 0.35087719  0.90625     0.93333333  0.56746032  0.60833333]\n"
     ]
    },
    {
     "name": "stderr",
     "output_type": "stream",
     "text": [
      "/Users/balaji/anaconda3/lib/python3.6/site-packages/sklearn/metrics/classification.py:1135: UndefinedMetricWarning: Precision is ill-defined and being set to 0.0 in labels with no predicted samples.\n",
      "  'precision', 'predicted', average, warn_for)\n"
     ]
    }
   ],
   "source": [
    "from sklearn.model_selection import cross_validate\n",
    "from sklearn.metrics import recall_score\n",
    "\n",
    "model_naive_cv = GaussianNB()\n",
    "scoring = ['precision_macro', 'recall_macro']\n",
    "scores = cross_validate(model_naive_cv, df_X, df_Y.values.ravel(), scoring = scoring, cv= 5, return_train_score=False)\n",
    "sorted(scores.keys())\n",
    "print(\"Recall: \", scores['test_recall_macro'])\n",
    "print(\"Precision: \", scores['test_precision_macro'])"
   ]
  },
  {
   "cell_type": "code",
   "execution_count": 112,
   "metadata": {},
   "outputs": [
    {
     "name": "stdout",
     "output_type": "stream",
     "text": [
      "1 935.114285714\n",
      "2 659.678135405\n",
      "3 470.806365361\n",
      "4 378.090408577\n",
      "5 333.261186526\n",
      "6 303.419047619\n",
      "7 274.793772894\n",
      "8 246.559157509\n",
      "9 229.326373626\n",
      "10 217.31043956\n",
      "11 198.78452381\n",
      "12 185.263888889\n",
      "13 175.747619048\n",
      "14 161.947222222\n"
     ]
    }
   ],
   "source": [
    "%matplotlib inline\n",
    "import matplotlib.pyplot as plt\n",
    "from sklearn.cluster import KMeans\n",
    "#Finding the optimum number of clusters for k-means classification\n",
    "# n_clusters = Number of centroids to generate\n",
    "# init = k-means++ = select convergence method\n",
    "# max_iter = Maximum number of iterations of the k-means algorithm for a single run.\n",
    "# n_init = 10 = Number of time the k-means algorithm will be run with different centroid seeds. \n",
    "# random_state = 0 = random number generator is the RandomState instance used by np.random\n",
    "# inertia = Sum of squared distances of samples to their closest cluster center\n",
    "# WCSS = Witchin cluster sum of squares\n",
    "wcss = []\n",
    "for i in range(1, 15):\n",
    "    kmeans = KMeans(n_clusters = i, init = 'k-means++', max_iter = 100, n_init = 15, random_state = 0)\n",
    "    kmeans.fit(df_X_test)\n",
    "    wcss.append(kmeans.inertia_)# within clusters sum of squares (dist from centroid and then square it and then add it)\n",
    "    print(i,kmeans.inertia_)"
   ]
  },
  {
   "cell_type": "code",
   "execution_count": 113,
   "metadata": {},
   "outputs": [
    {
     "data": {
      "image/png": "[encoded data removed]",
      "text/plain": [
       "<matplotlib.figure.Figure at 0x1a1c98cda0>"
      ]
     },
     "metadata": {},
     "output_type": "display_data"
    }
   ],
   "source": [
    "#Plotting the results onto a line graph, allowing us to observe 'The elbow'\n",
    "plt.plot(range(1, 15), wcss)\n",
    "plt.title('The elbow method')\n",
    "plt.xlabel('Number of clusters')\n",
    "plt.ylabel('WCSS') #within cluster sum of squares\n",
    "plt.show()"
   ]
  },
  {
   "cell_type": "code",
   "execution_count": 138,
   "metadata": {},
   "outputs": [
    {
     "data": {
      "text/plain": [
       "KMeans(algorithm='auto', copy_x=True, init='k-means++', max_iter=100,\n",
       "    n_clusters=2, n_init=15, n_jobs=1, precompute_distances='auto',\n",
       "    random_state=0, tol=0.0001, verbose=0)"
      ]
     },
     "execution_count": 138,
     "metadata": {},
     "output_type": "execute_result"
    }
   ],
   "source": [
    "# best_n_clusters = 2\n",
    "kmeans = KMeans(n_clusters = 2, init = 'k-means++', max_iter = 100, n_init = 15, random_state = 0)\n",
    "kmeans.fit(df_X_test)"
   ]
  },
  {
   "cell_type": "code",
   "execution_count": 139,
   "metadata": {},
   "outputs": [
    {
     "name": "stdout",
     "output_type": "stream",
     "text": [
      "[[  2.69811321e+00   1.03773585e+00   4.09433962e+00  -1.55431223e-15\n",
      "    8.86792453e-01   4.52830189e-01   1.81132075e+00   7.54716981e-02\n",
      "    1.13207547e-01]\n",
      " [  2.82352941e+00   9.41176471e-01   4.82352941e+00   4.47058824e+00\n",
      "    1.52941176e+00   4.70588235e-01   1.64705882e+00   6.47058824e-01\n",
      "    4.11764706e-01]]\n"
     ]
    }
   ],
   "source": [
    "print(kmeans.cluster_centers_) "
   ]
  },
  {
   "cell_type": "code",
   "execution_count": 140,
   "metadata": {},
   "outputs": [
    {
     "name": "stdout",
     "output_type": "stream",
     "text": [
      "[1 0 0 1 0 1 0 0 0 0 0 0 0 0 0 0 0 0 0 0 0 0 1 1 0 0 0 0 0 1 0 1 1 0 0 0 0\n",
      " 0 1 0 0 1 1 0 0 0 0 0 0 0 1 0 0 0 0 0 0 1 0 1 1 0 0 0 1 0 1 0 0 0]\n"
     ]
    }
   ],
   "source": [
    "print(kmeans.labels_) #"
   ]
  },
  {
   "cell_type": "code",
   "execution_count": 142,
   "metadata": {},
   "outputs": [
    {
     "name": "stdout",
     "output_type": "stream",
     "text": [
      "             precision    recall  f1-score   support\n",
      "\n",
      "          0       0.81      0.88      0.84        49\n",
      "          1       0.65      0.52      0.58        21\n",
      "\n",
      "avg / total       0.76      0.77      0.76        70\n",
      "\n"
     ]
    }
   ],
   "source": [
    "from sklearn import metrics\n",
    "print(metrics.classification_report(df_Y_test, kmeans.labels_))"
   ]
  },
  {
   "cell_type": "markdown",
   "metadata": {},
   "source": [
    "## Conclusion\n",
    "with Knn it has 2 type of clusters which is reoccurence of cancer or not. This  clustering types are similar to the type given in the dataset."
   ]
  }
 ],
 "metadata": {
  "kernelspec": {
   "display_name": "Python 3",
   "language": "python",
   "name": "python3"
  },
  "language_info": {
   "codemirror_mode": {
    "name": "ipython",
    "version": 3
   },
   "file_extension": ".py",
   "mimetype": "text/x-python",
   "name": "python",
   "nbconvert_exporter": "python",
   "pygments_lexer": "ipython3",
   "version": "3.6.3"
  }
 },
 "nbformat": 4,
 "nbformat_minor": 2
}
