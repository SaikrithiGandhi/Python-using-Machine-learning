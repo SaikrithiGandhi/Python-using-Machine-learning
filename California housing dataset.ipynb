{
 "cells": [
  {
   "cell_type": "markdown",
   "metadata": {},
   "source": [
    "# Predict CA house price during 1990"
   ]
  },
  {
   "cell_type": "markdown",
   "metadata": {},
   "source": [
    "Housing data from 1990 obtained from Kaggle: https://www.kaggle.com/harrywang/housing\n",
    "\n",
    "The dataset has 9 features and 20640 items."
   ]
  },
  {
   "cell_type": "code",
   "execution_count": 54,
   "metadata": {
    "collapsed": true
   },
   "outputs": [],
   "source": [
    "import pandas as pd\n",
    "import numpy as np\n",
    "import matplotlib.pyplot as plt\n",
    "%matplotlib inline\n",
    "import os\n",
    "import seaborn as sns\n",
    "import math\n",
    "from sklearn.metrics import mean_squared_error as mse\n",
    "from sklearn.metrics import r2_score\n",
    "from sklearn.neighbors import KNeighborsRegressor\n",
    "import sklearn.linear_model as lm"
   ]
  },
  {
   "cell_type": "code",
   "execution_count": 3,
   "metadata": {},
   "outputs": [
    {
     "name": "stdout",
     "output_type": "stream",
     "text": [
      "Dataframe shape:  (20640, 10) \n",
      "\n",
      "   longitude  latitude  housing_median_age  total_rooms  total_bedrooms  \\\n",
      "0    -122.23     37.88                41.0        880.0           129.0   \n",
      "1    -122.22     37.86                21.0       7099.0          1106.0   \n",
      "2    -122.24     37.85                52.0       1467.0           190.0   \n",
      "3    -122.25     37.85                52.0       1274.0           235.0   \n",
      "4    -122.25     37.85                52.0       1627.0           280.0   \n",
      "\n",
      "   population  households  median_income  median_house_value ocean_proximity  \n",
      "0       322.0       126.0         8.3252            452600.0        NEAR BAY  \n",
      "1      2401.0      1138.0         8.3014            358500.0        NEAR BAY  \n",
      "2       496.0       177.0         7.2574            352100.0        NEAR BAY  \n",
      "3       558.0       219.0         5.6431            341300.0        NEAR BAY  \n",
      "4       565.0       259.0         3.8462            342200.0        NEAR BAY  \n"
     ]
    }
   ],
   "source": [
    "path = \"/Users/balaji/Downloads/housing/\"\n",
    "df = pd.read_csv(path + \"housing.csv\")\n",
    "print(\"Dataframe shape: \",df.shape,\"\\n\")\n",
    "print(df.head())"
   ]
  },
  {
   "cell_type": "code",
   "execution_count": 5,
   "metadata": {
    "collapsed": true
   },
   "outputs": [],
   "source": [
    "df=df.drop(\"ocean_proximity\",axis=1)"
   ]
  },
  {
   "cell_type": "code",
   "execution_count": 7,
   "metadata": {},
   "outputs": [
    {
     "data": {
      "text/plain": [
       "Index(['longitude', 'latitude', 'housing_median_age', 'total_rooms',\n",
       "       'total_bedrooms', 'population', 'households', 'median_income',\n",
       "       'median_house_value'],\n",
       "      dtype='object')"
      ]
     },
     "execution_count": 7,
     "metadata": {},
     "output_type": "execute_result"
    }
   ],
   "source": [
    "df.columns"
   ]
  },
  {
   "cell_type": "code",
   "execution_count": 22,
   "metadata": {},
   "outputs": [
    {
     "data": {
      "text/html": [
       "<div>\n",
       "<style>\n",
       "    .dataframe thead tr:only-child th {\n",
       "        text-align: right;\n",
       "    }\n",
       "\n",
       "    .dataframe thead th {\n",
       "        text-align: left;\n",
       "    }\n",
       "\n",
       "    .dataframe tbody tr th {\n",
       "        vertical-align: top;\n",
       "    }\n",
       "</style>\n",
       "<table border=\"1\" class=\"dataframe\">\n",
       "  <thead>\n",
       "    <tr style=\"text-align: right;\">\n",
       "      <th></th>\n",
       "      <th>longitude</th>\n",
       "      <th>latitude</th>\n",
       "      <th>housing_median_age</th>\n",
       "      <th>total_rooms</th>\n",
       "      <th>total_bedrooms</th>\n",
       "      <th>population</th>\n",
       "      <th>households</th>\n",
       "      <th>median_income</th>\n",
       "      <th>median_house_value</th>\n",
       "    </tr>\n",
       "  </thead>\n",
       "  <tbody>\n",
       "    <tr>\n",
       "      <th>290</th>\n",
       "      <td>-122.16</td>\n",
       "      <td>37.77</td>\n",
       "      <td>47.0</td>\n",
       "      <td>1256.0</td>\n",
       "      <td>NaN</td>\n",
       "      <td>570.0</td>\n",
       "      <td>218.0</td>\n",
       "      <td>4.375</td>\n",
       "      <td>161900.0</td>\n",
       "    </tr>\n",
       "  </tbody>\n",
       "</table>\n",
       "</div>"
      ],
      "text/plain": [
       "     longitude  latitude  housing_median_age  total_rooms  total_bedrooms  \\\n",
       "290    -122.16     37.77                47.0       1256.0             NaN   \n",
       "\n",
       "     population  households  median_income  median_house_value  \n",
       "290       570.0       218.0          4.375            161900.0  "
      ]
     },
     "execution_count": 22,
     "metadata": {},
     "output_type": "execute_result"
    }
   ],
   "source": [
    "df.iloc[[290]]"
   ]
  },
  {
   "cell_type": "code",
   "execution_count": 23,
   "metadata": {},
   "outputs": [
    {
     "data": {
      "text/plain": [
       "(20433, 9)"
      ]
     },
     "execution_count": 23,
     "metadata": {},
     "output_type": "execute_result"
    }
   ],
   "source": [
    "df.shape\n",
    "df = df.dropna()\n",
    "df.shape"
   ]
  },
  {
   "cell_type": "code",
   "execution_count": 25,
   "metadata": {},
   "outputs": [
    {
     "name": "stdout",
     "output_type": "stream",
     "text": [
      "False\n"
     ]
    },
    {
     "data": {
      "text/plain": [
       "False"
      ]
     },
     "execution_count": 25,
     "metadata": {},
     "output_type": "execute_result"
    }
   ],
   "source": [
    "print(np.any(np.isnan(df)))\n",
    "\n",
    "np.all(np.isfinite(df) == False)"
   ]
  },
  {
   "cell_type": "code",
   "execution_count": 67,
   "metadata": {},
   "outputs": [],
   "source": [
    "from sklearn import preprocessing\n",
    "float_array = df.values.astype(float)\n",
    "min_max_scaler = preprocessing.MinMaxScaler()\n",
    "scaled_array = min_max_scaler.fit_transform(float_array)\n",
    "standard_scaler = preprocessing.StandardScaler()\n",
    "scaled_stand = standard_scaler.fit_transform(float_array)"
   ]
  },
  {
   "cell_type": "code",
   "execution_count": 27,
   "metadata": {},
   "outputs": [
    {
     "name": "stdout",
     "output_type": "stream",
     "text": [
      "Dataframe shape:  (20433, 9) \n",
      "\n"
     ]
    }
   ],
   "source": [
    "df_normalized = pd.DataFrame(scaled_array, columns = ['longitude', 'latitude', 'housing_median_age', 'total_rooms',\n",
    "       'total_bedrooms', 'population', 'households', 'median_income',\n",
    "       'median_house_value'])\n",
    "print(\"Dataframe shape: \",df_normalized.shape,\"\\n\")"
   ]
  },
  {
   "cell_type": "code",
   "execution_count": 28,
   "metadata": {},
   "outputs": [
    {
     "name": "stdout",
     "output_type": "stream",
     "text": [
      "   longitude  latitude  housing_median_age  total_rooms  total_bedrooms  \\\n",
      "0   0.211155  0.567481            0.784314     0.022331        0.019863   \n",
      "1   0.212151  0.565356            0.392157     0.180503        0.171477   \n",
      "2   0.210159  0.564293            1.000000     0.037260        0.029330   \n",
      "3   0.209163  0.564293            1.000000     0.032352        0.036313   \n",
      "4   0.209163  0.564293            1.000000     0.041330        0.043296   \n",
      "\n",
      "   population  households  median_income  median_house_value  \n",
      "0    0.008941    0.020556       0.539668            0.902266  \n",
      "1    0.067210    0.186976       0.538027            0.708247  \n",
      "2    0.013818    0.028943       0.466028            0.695051  \n",
      "3    0.015555    0.035849       0.354699            0.672783  \n",
      "4    0.015752    0.042427       0.230776            0.674638  \n"
     ]
    }
   ],
   "source": [
    "print(df_normalized[0:5])"
   ]
  },
  {
   "cell_type": "code",
   "execution_count": 29,
   "metadata": {},
   "outputs": [
    {
     "name": "stderr",
     "output_type": "stream",
     "text": [
      "/Users/balaji/anaconda3/lib/python3.6/site-packages/IPython/core/interactiveshell.py:2862: UserWarning: To output multiple subplots, the figure containing the passed axes is being cleared\n",
      "  exec(code_obj, self.user_global_ns, self.user_ns)\n"
     ]
    },
    {
     "data": {
      "text/plain": [
       "array([[<matplotlib.axes._subplots.AxesSubplot object at 0x10bb0da58>,\n",
       "        <matplotlib.axes._subplots.AxesSubplot object at 0x1099f1cf8>,\n",
       "        <matplotlib.axes._subplots.AxesSubplot object at 0x109a27cc0>],\n",
       "       [<matplotlib.axes._subplots.AxesSubplot object at 0x109a62da0>,\n",
       "        <matplotlib.axes._subplots.AxesSubplot object at 0x109a9ada0>,\n",
       "        <matplotlib.axes._subplots.AxesSubplot object at 0x109a9add8>],\n",
       "       [<matplotlib.axes._subplots.AxesSubplot object at 0x110f86b00>,\n",
       "        <matplotlib.axes._subplots.AxesSubplot object at 0x110fbcb00>,\n",
       "        <matplotlib.axes._subplots.AxesSubplot object at 0x110ff1b70>]], dtype=object)"
      ]
     },
     "execution_count": 29,
     "metadata": {},
     "output_type": "execute_result"
    },
    {
     "data": {
      "image/png": "[encoded data removed]",
      "text/plain": [
       "<matplotlib.figure.Figure at 0x10bb0d8d0>"
      ]
     },
     "metadata": {},
     "output_type": "display_data"
    }
   ],
   "source": [
    "fig = plt.figure(figsize = (8,8))\n",
    "ax = fig.gca()\n",
    "df.hist(ax = ax)"
   ]
  },
  {
   "cell_type": "code",
   "execution_count": 62,
   "metadata": {},
   "outputs": [
    {
     "data": {
      "text/html": [
       "<div>\n",
       "<style>\n",
       "    .dataframe thead tr:only-child th {\n",
       "        text-align: right;\n",
       "    }\n",
       "\n",
       "    .dataframe thead th {\n",
       "        text-align: left;\n",
       "    }\n",
       "\n",
       "    .dataframe tbody tr th {\n",
       "        vertical-align: top;\n",
       "    }\n",
       "</style>\n",
       "<table border=\"1\" class=\"dataframe\">\n",
       "  <thead>\n",
       "    <tr style=\"text-align: right;\">\n",
       "      <th></th>\n",
       "      <th>longitude</th>\n",
       "      <th>latitude</th>\n",
       "      <th>housing_median_age</th>\n",
       "      <th>total_rooms</th>\n",
       "      <th>total_bedrooms</th>\n",
       "      <th>population</th>\n",
       "      <th>households</th>\n",
       "      <th>median_income</th>\n",
       "      <th>median_house_value</th>\n",
       "    </tr>\n",
       "  </thead>\n",
       "  <tbody>\n",
       "    <tr>\n",
       "      <th>longitude</th>\n",
       "      <td>1.000000</td>\n",
       "      <td>-0.924616</td>\n",
       "      <td>-0.109357</td>\n",
       "      <td>0.045480</td>\n",
       "      <td>0.069608</td>\n",
       "      <td>0.100270</td>\n",
       "      <td>0.056513</td>\n",
       "      <td>-0.015550</td>\n",
       "      <td>-0.045398</td>\n",
       "    </tr>\n",
       "    <tr>\n",
       "      <th>latitude</th>\n",
       "      <td>-0.924616</td>\n",
       "      <td>1.000000</td>\n",
       "      <td>0.011899</td>\n",
       "      <td>-0.036667</td>\n",
       "      <td>-0.066983</td>\n",
       "      <td>-0.108997</td>\n",
       "      <td>-0.071774</td>\n",
       "      <td>-0.079626</td>\n",
       "      <td>-0.144638</td>\n",
       "    </tr>\n",
       "    <tr>\n",
       "      <th>housing_median_age</th>\n",
       "      <td>-0.109357</td>\n",
       "      <td>0.011899</td>\n",
       "      <td>1.000000</td>\n",
       "      <td>-0.360628</td>\n",
       "      <td>-0.320451</td>\n",
       "      <td>-0.295787</td>\n",
       "      <td>-0.302768</td>\n",
       "      <td>-0.118278</td>\n",
       "      <td>0.106432</td>\n",
       "    </tr>\n",
       "    <tr>\n",
       "      <th>total_rooms</th>\n",
       "      <td>0.045480</td>\n",
       "      <td>-0.036667</td>\n",
       "      <td>-0.360628</td>\n",
       "      <td>1.000000</td>\n",
       "      <td>0.930380</td>\n",
       "      <td>0.857281</td>\n",
       "      <td>0.918992</td>\n",
       "      <td>0.197882</td>\n",
       "      <td>0.133294</td>\n",
       "    </tr>\n",
       "    <tr>\n",
       "      <th>total_bedrooms</th>\n",
       "      <td>0.069608</td>\n",
       "      <td>-0.066983</td>\n",
       "      <td>-0.320451</td>\n",
       "      <td>0.930380</td>\n",
       "      <td>1.000000</td>\n",
       "      <td>0.877747</td>\n",
       "      <td>0.979728</td>\n",
       "      <td>-0.007723</td>\n",
       "      <td>0.049686</td>\n",
       "    </tr>\n",
       "    <tr>\n",
       "      <th>population</th>\n",
       "      <td>0.100270</td>\n",
       "      <td>-0.108997</td>\n",
       "      <td>-0.295787</td>\n",
       "      <td>0.857281</td>\n",
       "      <td>0.877747</td>\n",
       "      <td>1.000000</td>\n",
       "      <td>0.907186</td>\n",
       "      <td>0.005087</td>\n",
       "      <td>-0.025300</td>\n",
       "    </tr>\n",
       "    <tr>\n",
       "      <th>households</th>\n",
       "      <td>0.056513</td>\n",
       "      <td>-0.071774</td>\n",
       "      <td>-0.302768</td>\n",
       "      <td>0.918992</td>\n",
       "      <td>0.979728</td>\n",
       "      <td>0.907186</td>\n",
       "      <td>1.000000</td>\n",
       "      <td>0.013434</td>\n",
       "      <td>0.064894</td>\n",
       "    </tr>\n",
       "    <tr>\n",
       "      <th>median_income</th>\n",
       "      <td>-0.015550</td>\n",
       "      <td>-0.079626</td>\n",
       "      <td>-0.118278</td>\n",
       "      <td>0.197882</td>\n",
       "      <td>-0.007723</td>\n",
       "      <td>0.005087</td>\n",
       "      <td>0.013434</td>\n",
       "      <td>1.000000</td>\n",
       "      <td>0.688355</td>\n",
       "    </tr>\n",
       "    <tr>\n",
       "      <th>median_house_value</th>\n",
       "      <td>-0.045398</td>\n",
       "      <td>-0.144638</td>\n",
       "      <td>0.106432</td>\n",
       "      <td>0.133294</td>\n",
       "      <td>0.049686</td>\n",
       "      <td>-0.025300</td>\n",
       "      <td>0.064894</td>\n",
       "      <td>0.688355</td>\n",
       "      <td>1.000000</td>\n",
       "    </tr>\n",
       "  </tbody>\n",
       "</table>\n",
       "</div>"
      ],
      "text/plain": [
       "                    longitude  latitude  housing_median_age  total_rooms  \\\n",
       "longitude            1.000000 -0.924616           -0.109357     0.045480   \n",
       "latitude            -0.924616  1.000000            0.011899    -0.036667   \n",
       "housing_median_age  -0.109357  0.011899            1.000000    -0.360628   \n",
       "total_rooms          0.045480 -0.036667           -0.360628     1.000000   \n",
       "total_bedrooms       0.069608 -0.066983           -0.320451     0.930380   \n",
       "population           0.100270 -0.108997           -0.295787     0.857281   \n",
       "households           0.056513 -0.071774           -0.302768     0.918992   \n",
       "median_income       -0.015550 -0.079626           -0.118278     0.197882   \n",
       "median_house_value  -0.045398 -0.144638            0.106432     0.133294   \n",
       "\n",
       "                    total_bedrooms  population  households  median_income  \\\n",
       "longitude                 0.069608    0.100270    0.056513      -0.015550   \n",
       "latitude                 -0.066983   -0.108997   -0.071774      -0.079626   \n",
       "housing_median_age       -0.320451   -0.295787   -0.302768      -0.118278   \n",
       "total_rooms               0.930380    0.857281    0.918992       0.197882   \n",
       "total_bedrooms            1.000000    0.877747    0.979728      -0.007723   \n",
       "population                0.877747    1.000000    0.907186       0.005087   \n",
       "households                0.979728    0.907186    1.000000       0.013434   \n",
       "median_income            -0.007723    0.005087    0.013434       1.000000   \n",
       "median_house_value        0.049686   -0.025300    0.064894       0.688355   \n",
       "\n",
       "                    median_house_value  \n",
       "longitude                    -0.045398  \n",
       "latitude                     -0.144638  \n",
       "housing_median_age            0.106432  \n",
       "total_rooms                   0.133294  \n",
       "total_bedrooms                0.049686  \n",
       "population                   -0.025300  \n",
       "households                    0.064894  \n",
       "median_income                 0.688355  \n",
       "median_house_value            1.000000  "
      ]
     },
     "execution_count": 62,
     "metadata": {},
     "output_type": "execute_result"
    }
   ],
   "source": [
    "corr_matrix = df_normalized.corr()\n",
    "corr_matrix\n"
   ]
  },
  {
   "cell_type": "code",
   "execution_count": 65,
   "metadata": {},
   "outputs": [
    {
     "data": {
      "text/plain": [
       "<matplotlib.axes._subplots.AxesSubplot at 0x1a1636e6d8>"
      ]
     },
     "execution_count": 65,
     "metadata": {},
     "output_type": "execute_result"
    },
    {
     "data": {
      "image/png": "[encoded data removed]",
      "text/plain": [
       "<matplotlib.figure.Figure at 0x1a16363a90>"
      ]
     },
     "metadata": {},
     "output_type": "display_data"
    }
   ],
   "source": [
    "# use seaborn heatmap to generate correlation matrix\n",
    "\n",
    "\n",
    "fig = plt.figure(figsize = (15,15))\n",
    "\n",
    "# Generate a custom diverging colormap\n",
    "cmap = sns.diverging_palette(220, 10, as_cmap=True)\n",
    "#cmap = sns.color_palette(\"RdBu_r\")\n",
    "# Draw the heatmap with the mask and correct aspect ratio\n",
    "\n",
    "sns.heatmap(corr_matrix,cmap = cmap,vmax=1.0,vmin= -1.0,center=0,square=True, linewidths=.5, cbar_kws={\"shrink\": .5})"
   ]
  },
  {
   "cell_type": "code",
   "execution_count": 30,
   "metadata": {
    "collapsed": true
   },
   "outputs": [],
   "source": [
    "X = df_normalized.drop('median_house_value',axis=1)\n",
    "y = df_normalized['median_house_value']"
   ]
  },
  {
   "cell_type": "code",
   "execution_count": 31,
   "metadata": {},
   "outputs": [
    {
     "name": "stdout",
     "output_type": "stream",
     "text": [
      "X_train shape:  (15324, 8)\n",
      "y_train shape:  (15324,)\n",
      "X_test shape:  (5109, 8)\n",
      "y_test shape:  (5109,)\n"
     ]
    }
   ],
   "source": [
    "# Split data to training and test\n",
    "from sklearn.model_selection import train_test_split\n",
    "# Split X and y into X_\n",
    "X_train, X_test, y_train, y_test = train_test_split(X, y, test_size=0.25, random_state=1)\n",
    "print(\"X_train shape: \",X_train.shape) # 294 rows, 6 columns\n",
    "print(\"y_train shape: \",y_train.shape) # 294 rows, 1 column\n",
    "print(\"X_test shape: \",X_test.shape) # 98 rows, 6 columns\n",
    "print(\"y_test shape: \",y_test.shape) # 98 rows, 1 column\n",
    "# print(y_train)"
   ]
  },
  {
   "cell_type": "code",
   "execution_count": 55,
   "metadata": {},
   "outputs": [
    {
     "name": "stdout",
     "output_type": "stream",
     "text": [
      "dict_keys(['Linear_Regression', 'Ridge_0_1', 'Ridge_0_5', 'Ridge_2_0', 'Lasso_0_01', 'Lasso_0_05', 'Lasso_0_1', 'LassoLars_0_01', 'LassoLars_0_05', 'LassoLars_0_1', 'BayesianRidge', 'ElasticNet', 'KNeighborsRegressor_3', 'KNeighborsRegressor_5', 'KNeighborsRegressor_2', 'KNeighborsRegressor_4'])\n"
     ]
    }
   ],
   "source": [
    "``\n",
    "\n",
    "# Next line is \"dictionary\" data structure \n",
    "d_models = {\"Linear_Regression\": lm.LinearRegression(),\n",
    "            \"Ridge_0_1\": lm.Ridge(alpha=0.1),\n",
    "            \"Ridge_0_5\": lm.Ridge(alpha=0.5),\n",
    "            \"Ridge_2_0\": lm.Ridge(alpha=2.0),\n",
    "            \"Lasso_0_01\": lm.Lasso(alpha=0.01),\n",
    "            \"Lasso_0_05\": lm.Lasso(alpha=0.05),\n",
    "            \"Lasso_0_1\": lm.Lasso(alpha=0.1),\n",
    "            \"LassoLars_0_01\": lm.LassoLars(alpha=0.01),\n",
    "            \"LassoLars_0_05\": lm.LassoLars(alpha=0.05),\n",
    "            \"LassoLars_0_1\": lm.LassoLars(alpha=0.1),\n",
    "            \"BayesianRidge\": lm.BayesianRidge(),\n",
    "            \"ElasticNet\": lm.ElasticNet(alpha=0.1),\n",
    "            \"KNeighborsRegressor_3\": KNeighborsRegressor(n_neighbors=3),\n",
    "            \"KNeighborsRegressor_5\": KNeighborsRegressor(n_neighbors=5),\n",
    "            \"KNeighborsRegressor_2\": KNeighborsRegressor(n_neighbors=2),\n",
    "            \"KNeighborsRegressor_4\": KNeighborsRegressor(n_neighbors=4)}\n",
    "models_list = d_models.keys()\n",
    "print(models_list)"
   ]
  },
  {
   "cell_type": "code",
   "execution_count": 57,
   "metadata": {},
   "outputs": [
    {
     "name": "stdout",
     "output_type": "stream",
     "text": [
      "Linear_Regression   RMSE: 0.14315559128168234    R2 Score: 0.450967805465\n",
      "Ridge_0_1   RMSE: 0.14320862644547872    R2 Score: 0.448263879692\n",
      "Ridge_0_5   RMSE: 0.14348858644938853    R2 Score: 0.438132213693\n",
      "Ridge_2_0   RMSE: 0.14474426476860203    R2 Score: 0.407751528906\n",
      "Lasso_0_01   RMSE: 0.19035327010998015    R2 Score: -3.67727251798\n",
      "Lasso_0_05   RMSE: 0.24134753814980692    R2 Score: -4.72569062844e+30\n",
      "Lasso_0_1   RMSE: 0.24134753814980692    R2 Score: -4.72569062844e+30\n",
      "LassoLars_0_01   RMSE: 0.24134753814980692    R2 Score: -4.72569062844e+30\n",
      "LassoLars_0_05   RMSE: 0.24134753814980692    R2 Score: -4.72569062844e+30\n",
      "LassoLars_0_1   RMSE: 0.24134753814980692    R2 Score: -4.72569062844e+30\n",
      "BayesianRidge   RMSE: 0.14316161401943084    R2 Score: 0.450630468228\n",
      "ElasticNet   RMSE: 0.24134753814980692    R2 Score: -4.72569062844e+30\n",
      "KNeighborsRegressor_3   RMSE: 0.1344986392065554    R2 Score: 0.610441482211\n",
      "KNeighborsRegressor_5   RMSE: 0.13068019126982297    R2 Score: 0.608344141261\n",
      "KNeighborsRegressor_2   RMSE: 0.14025476789163951    R2 Score: 0.601029397595\n",
      "KNeighborsRegressor_4   RMSE: 0.13252293571183255    R2 Score: 0.608916858794\n"
     ]
    }
   ],
   "source": [
    "# Model test using min max scaler\n",
    "for regression_model in models_list:\n",
    "    regressor = d_models[regression_model]\n",
    "    regressor.fit(X_train,y_train)\n",
    "    y_predict = regressor.predict(X_test)\n",
    "    regression_model_mse = mse(y_predict, y_test)\n",
    "    score_r2 = r2_score(y_predict, y_test)\n",
    "    print(regression_model,\"  RMSE:\",math.sqrt(regression_model_mse),\"   R2 Score:\",score_r2)\n"
   ]
  },
  {
   "cell_type": "code",
   "execution_count": 89,
   "metadata": {},
   "outputs": [
    {
     "data": {
      "text/plain": [
       "KNeighborsRegressor(algorithm='auto', leaf_size=30, metric='minkowski',\n",
       "          metric_params=None, n_jobs=1, n_neighbors=3, p=2,\n",
       "          weights='uniform')"
      ]
     },
     "execution_count": 89,
     "metadata": {},
     "output_type": "execute_result"
    }
   ],
   "source": [
    "# Now let us build a model using the whole dataset for better prediction of new data\n",
    "# we will use the first entry as the test data and build the model using all the other elements.\n",
    "\n",
    "final_X = X[1:]\n",
    "final_y = y[1:]\n",
    "\n",
    "knn_3_model = KNeighborsRegressor(n_neighbors=3)\n",
    "knn_3_model.fit(final_X, final_y)\n"
   ]
  },
  {
   "cell_type": "code",
   "execution_count": 90,
   "metadata": {},
   "outputs": [
    {
     "name": "stdout",
     "output_type": "stream",
     "text": [
      "Normalized new test row : [[-1.32731375  1.05171726  0.98216331 -0.8038126  -0.97032521 -0.97331952\n",
      "  -0.97683327  2.34516291  2.12881864]]\n"
     ]
    }
   ],
   "source": [
    "# Now let us test our model on the first item in the dataset.\n",
    "\n",
    "test_data = np.array([df.iloc[0]])\n",
    "expected_test_out = df.iloc[0, 8]\n",
    "\n",
    "# rescale test data\n",
    "test_transform = standard_scaler.transform(test_data) # apply the same transform\n",
    "print(\"Normalized new test row :\", test_transform)"
   ]
  },
  {
   "cell_type": "code",
   "execution_count": 91,
   "metadata": {},
   "outputs": [
    {
     "name": "stdout",
     "output_type": "stream",
     "text": [
      "Test result house value (still normalized):  1.0\n"
     ]
    }
   ],
   "source": [
    "test_1 = list(test_transform[0][:8]) # Extract all values excluding sound_dbs\n",
    "test_seq = [test_1] # make a list of list\n",
    "test_result = knn_3_model.predict(test_seq) # apply model prediction\n",
    "print(\"Test result house value (still normalized): \",test_result[0]) # this is still normalized mpg result"
   ]
  },
  {
   "cell_type": "code",
   "execution_count": 93,
   "metadata": {},
   "outputs": [
    {
     "name": "stdout",
     "output_type": "stream",
     "text": [
      "Test row with predicted (still normalized):  [[-1.32731375  1.05171726  0.98216331 -0.8038126  -0.97032521 -0.97331952\n",
      "  -0.97683327  2.34516291  1.        ]]\n",
      "Final test result:  [[ -1.22230000e+02   3.78800000e+01   4.10000000e+01   8.80000000e+02\n",
      "    1.29000000e+02   3.22000000e+02   1.26000000e+02   8.32520000e+00\n",
      "    3.22297255e+05]]\n",
      "Predicted house price:  322297.255483\n",
      "Actual house price:  452600.0\n"
     ]
    }
   ],
   "source": [
    "test_transform[0][8] = test_result[0] # put result back, replace dummy with predicted\n",
    "print(\"Test row with predicted (still normalized): \",test_transform)\n",
    "result = standard_scaler.inverse_transform(test_transform) # apply inverse transform\n",
    "print(\"Final test result: \",result)\n",
    "print(\"Predicted house price: \",result[0][8])\n",
    "print(\"Actual house price: \", expected_test_out)"
   ]
  },
  {
   "cell_type": "markdown",
   "metadata": {},
   "source": [
    "## Conclusions\n",
    "\n",
    "KNN with n = 3 was the best model among the various models tried.  However, it has an R2 score of 0.61 only.\n",
    "This can be potentially be improved by feature selection and cross validation techniques."
   ]
  }
 ],
 "metadata": {
  "kernelspec": {
   "display_name": "Python 3",
   "language": "python",
   "name": "python3"
  },
  "language_info": {
   "codemirror_mode": {
    "name": "ipython",
    "version": 3
   },
   "file_extension": ".py",
   "mimetype": "text/x-python",
   "name": "python",
   "nbconvert_exporter": "python",
   "pygments_lexer": "ipython3",
   "version": "3.6.3"
  }
 },
 "nbformat": 4,
 "nbformat_minor": 2
}
