{
 "cells": [
  {
   "cell_type": "markdown",
   "metadata": {},
   "source": [
    "# Classify handwritten Devanagari characters using ML.\n",
    "\n",
    "Dataset is from https://archive.ics.uci.edu/ml/datasets/Devanagari+Handwritten+Character+Dataset#\n",
    "\n",
    "This is an image database of Handwritten Devanagari characters. There are 46 classes of characters with 2000 examples each. Each example is a 32x32 png image. The dataset is split into training set (85%) and testing set (15%). The paper shows that using deep convolutional neural network an prediction accuracy of 98.47%.\n",
    "\n",
    "This dataset is similar to charcter recognition in MNIST.  In this notebook, I have picked the first five classes of characters to build a classifier. Its a huge dataset and wanted to use a smaller subset of the dataset so it consumes less resource on my laptop. "
   ]
  },
  {
   "cell_type": "code",
   "execution_count": 108,
   "metadata": {
    "collapsed": true
   },
   "outputs": [],
   "source": [
    "import numpy as np"
   ]
  },
  {
   "cell_type": "code",
   "execution_count": 129,
   "metadata": {},
   "outputs": [
    {
     "name": "stdout",
     "output_type": "stream",
     "text": [
      "[]\n"
     ]
    }
   ],
   "source": [
    "X =  np.empty((0,32*32), int)\n",
    "Y =  np.empty((0,1), int)\n",
    "print(X)\n",
    "for im_path in glob.glob(\"/Users/balaji/Downloads/DevanagariHandwrittenCharacterDataset/Train_image/character_1_ka/*.png\"):\n",
    "    im = imageio.imread(im_path)\n",
    "    # print(im_path,im.shape)\n",
    "    X = np.append(X, im1.reshape(1, 32*32), axis=0)"
   ]
  },
  {
   "cell_type": "code",
   "execution_count": 105,
   "metadata": {},
   "outputs": [
    {
     "name": "stdout",
     "output_type": "stream",
     "text": [
      "/Users/balaji/Downloads/DevanagariHandwrittenCharacterDataset/Train_image/character_1_ka/*.png\n",
      "/Users/balaji/Downloads/DevanagariHandwrittenCharacterDataset/Train_image/character_2_kha/*.png\n"
     ]
    }
   ],
   "source": [
    "base_path = \"/Users/balaji/Downloads/DevanagariHandwrittenCharacterDataset/Train_image/\"\n",
    "characters = [\"character_1_ka\", \"character_2_kha\"]\n",
    "\n",
    "for ch in characters:\n",
    "    path = base_path + ch + \"/*.png\"\n",
    "    print(path)"
   ]
  },
  {
   "cell_type": "markdown",
   "metadata": {},
   "source": [
    "##  Reading the dataset.\n",
    "\n",
    "In the MNIST dataset the images were converted to a CSV file.  In this example, we have to convert the image to a data frame.  To achieve this I have used:\n",
    "- Reading png files and converting it to a dataframe (`imageio.imread`).\n",
    "- Reading multiple files from a directory (`glob`).\n"
   ]
  },
  {
   "cell_type": "code",
   "execution_count": 146,
   "metadata": {},
   "outputs": [],
   "source": [
    "import imageio\n",
    "import glob\n",
    "\n",
    "def read_files(folder_name, characters):\n",
    "    base_path = \"/Users/balaji/Downloads/DevanagariHandwrittenCharacterDataset/\" + folder_name + \"/\"\n",
    "    X =  np.empty((0,32*32), int)\n",
    "    Y =  np.empty((0,1), int)\n",
    "    for ch in characters:\n",
    "        path = base_path + ch + \"/*.png\"\n",
    "        for im_path in glob.glob(path):\n",
    "            im1 = imageio.imread(im_path)\n",
    "            # print(im_path,im1.shape)\n",
    "            X = np.append(X, im1.reshape(1, 32*32), axis=0)\n",
    "            Y = np.append(Y, ch)\n",
    "    return (X,Y)"
   ]
  },
  {
   "cell_type": "code",
   "execution_count": 148,
   "metadata": {
    "collapsed": true
   },
   "outputs": [],
   "source": [
    "# read the characters for training\n",
    "characters = [\"character_1_ka\", \"character_2_kha\", \"character_3_ga\", \"character_4_gha\", \"character_5_kna\"]\n",
    "train_X, train_Y = read_files(\"Train_image\", characters)\n"
   ]
  },
  {
   "cell_type": "code",
   "execution_count": 159,
   "metadata": {
    "collapsed": true
   },
   "outputs": [],
   "source": [
    "# Get the test dataset\n",
    "test_X, test_Y = read_files(\"Test\", characters)"
   ]
  },
  {
   "cell_type": "code",
   "execution_count": 160,
   "metadata": {},
   "outputs": [
    {
     "name": "stdout",
     "output_type": "stream",
     "text": [
      "(8500, 1024) (8500,)\n",
      "(1500, 1024) (1500,)\n"
     ]
    }
   ],
   "source": [
    "print(train_X.shape, train_Y.shape)\n",
    "print(test_X.shape, test_Y.shape)"
   ]
  },
  {
   "cell_type": "code",
   "execution_count": 178,
   "metadata": {},
   "outputs": [
    {
     "data": {
      "image/png": "[encoded data removed]",
      "text/plain": [
       "<matplotlib.figure.Figure at 0x1213c6160>"
      ]
     },
     "metadata": {},
     "output_type": "display_data"
    }
   ],
   "source": [
    "# Let us display some of the characters to see how the characters look.\n",
    "plt.figure(figsize=(20,5))\n",
    "for index, (image, label) in enumerate(zip(train_X[[1, 1701, 3401, 5101, 6801]], train_Y[[1, 1701, 3401, 5101, 6801]])):\n",
    "    plt.subplot(1, 5, index + 1)\n",
    "    plt.imshow(np.reshape(image, (32,32)), cmap=plt.cm.gray)\n",
    "    plt.title('Test Img: %s\\n' % label, fontsize = 15)"
   ]
  },
  {
   "cell_type": "markdown",
   "metadata": {},
   "source": [
    "## Classifiers\n",
    "\n",
    "We will first build a Logistic Regression classifier.  We will use the probability values that is available from the model to see how the various classes have prediction probabilities."
   ]
  },
  {
   "cell_type": "code",
   "execution_count": 158,
   "metadata": {},
   "outputs": [
    {
     "data": {
      "text/plain": [
       "LogisticRegression(C=1.0, class_weight=None, dual=False, fit_intercept=True,\n",
       "          intercept_scaling=1, max_iter=100, multi_class='ovr', n_jobs=1,\n",
       "          penalty='l2', random_state=10, solver='lbfgs', tol=0.0001,\n",
       "          verbose=0, warm_start=False)"
      ]
     },
     "execution_count": 158,
     "metadata": {},
     "output_type": "execute_result"
    }
   ],
   "source": [
    "from sklearn.linear_model import LogisticRegression\n",
    "model = LogisticRegression(solver = 'lbfgs',random_state=10)\n",
    "model.fit(train_X,train_Y)"
   ]
  },
  {
   "cell_type": "code",
   "execution_count": 164,
   "metadata": {},
   "outputs": [
    {
     "name": "stdout",
     "output_type": "stream",
     "text": [
      "[[  9.99998374e-01   1.61833766e-06   1.45301243e-11   3.71858245e-10\n",
      "    6.82386118e-09]\n",
      " [  6.17523961e-07   1.37097849e-01   5.69094987e-04   1.98146322e-04\n",
      "    8.62134292e-01]\n",
      " [  1.17135664e-04   3.04350256e-01   3.09273429e-01   1.62051670e-07\n",
      "    3.86259017e-01]\n",
      " [  1.58868227e-04   3.97120039e-02   7.54738617e-05   9.60051822e-01\n",
      "    1.83217580e-06]\n",
      " [  7.54863048e-04   2.00802148e-04   1.75499871e-09   6.82787977e-16\n",
      "    9.99044333e-01]]\n",
      "['character_1_ka' 'character_5_kna' 'character_5_kna' 'character_4_gha'\n",
      " 'character_5_kna']\n",
      "['character_1_ka' 'character_2_kha' 'character_3_ga' 'character_4_gha'\n",
      " 'character_5_kna']\n"
     ]
    }
   ],
   "source": [
    "print(model.predict_proba(test_X[[1, 301, 601, 901, 1201]])) # predicted value for the first test row\n",
    "print(model.predict(test_X[[1, 301, 601, 901, 1201]])) # predicted value for the first test row\n",
    "print(test_Y[[1, 301, 601, 901, 1201]])  # actual test label"
   ]
  },
  {
   "cell_type": "code",
   "execution_count": 165,
   "metadata": {},
   "outputs": [
    {
     "name": "stdout",
     "output_type": "stream",
     "text": [
      "[[  1.17135664e-04   3.04350256e-01   3.09273429e-01   1.62051670e-07\n",
      "    3.86259017e-01]]\n",
      "['character_5_kna']\n",
      "['character_3_ga']\n"
     ]
    }
   ],
   "source": [
    "print(model.predict_proba(test_X[[601]])) # predicted value for the first test row\n",
    "print(model.predict(test_X[[601]])) # predicted value for the first test row\n",
    "print(test_Y[[601]])  # actual test label"
   ]
  },
  {
   "cell_type": "code",
   "execution_count": 183,
   "metadata": {},
   "outputs": [
    {
     "name": "stdout",
     "output_type": "stream",
     "text": [
      "Logistic Regression accuracy: 96.333333\n"
     ]
    }
   ],
   "source": [
    "expected = test_Y \n",
    "predicted = classifer_model.predict(test_X)\n",
    "precision = metrics.accuracy_score(predicted, test_Y) * 100\n",
    "# summarize the fit of the model\n",
    "print(\"Logistic Regression\", \"accuracy: {0:.6f}\".format(precision))"
   ]
  },
  {
   "cell_type": "code",
   "execution_count": 184,
   "metadata": {},
   "outputs": [
    {
     "name": "stdout",
     "output_type": "stream",
     "text": [
      "[[294   3   0   2   1]\n",
      " [  0 294   3   2   1]\n",
      " [  0  17 276   5   2]\n",
      " [  2   5   3 289   1]\n",
      " [  0   4   1   3 292]]\n"
     ]
    }
   ],
   "source": [
    "cm = metrics.confusion_matrix(expected, predicted)\n",
    "print(cm)"
   ]
  },
  {
   "cell_type": "markdown",
   "metadata": {},
   "source": [
    "Note that for test sample number 601, the expected character is 'ga'.  However, the classifier predicts it to be character 'kna' with 38% probability, 'kha' with 32.4% probability and 'ga' with 30.9% probability.  From the confusion matrix, such examples are very few.\n",
    "\n",
    "Overall the prediction probability is 96.33%."
   ]
  },
  {
   "cell_type": "markdown",
   "metadata": {},
   "source": []
  },
  {
   "cell_type": "code",
   "execution_count": 171,
   "metadata": {},
   "outputs": [
    {
     "name": "stdout",
     "output_type": "stream",
     "text": [
      "dict_keys(['Naive Bayes', 'SVM', 'KNN3', 'KNN5', 'Random Forest10', 'Random Forest50'])\n"
     ]
    }
   ],
   "source": [
    "import math\n",
    "import sklearn.metrics as metrics\n",
    "# from sklearn.linear_model import LogisticRegression\n",
    "# from sklearn.discriminant_analysis import LinearDiscriminantAnalysis\n",
    "from sklearn.ensemble import RandomForestClassifier\n",
    "from sklearn import svm\n",
    "from sklearn.naive_bayes import GaussianNB\n",
    "from sklearn.neighbors import KNeighborsClassifier\n",
    "\n",
    "# Next line is \"dictionary\" data structure from class 1\n",
    "d_models = {\"Naive Bayes\": GaussianNB(),\n",
    "            \"SVM\": svm.SVC(random_state=6),\n",
    "            \"KNN3\": KNeighborsClassifier(n_neighbors = 3),\n",
    "            \"KNN5\": KNeighborsClassifier(n_neighbors = 5),\n",
    "            \"Random Forest10\": RandomForestClassifier(n_estimators=10, random_state=6),\n",
    "            \"Random Forest50\": RandomForestClassifier(n_estimators=50, random_state=6)}\n",
    "models_list = d_models.keys()\n",
    "print(models_list)"
   ]
  },
  {
   "cell_type": "code",
   "execution_count": 172,
   "metadata": {},
   "outputs": [
    {
     "name": "stdout",
     "output_type": "stream",
     "text": [
      "Accuracy of various classification methods using the principal components values:\n",
      "Naive Bayes accuracy: 78.866667\n",
      "SVM accuracy: 20.000000\n",
      "KNN3 accuracy: 98.866667\n",
      "KNN5 accuracy: 98.866667\n",
      "Random Forest10 accuracy: 93.600000\n",
      "Random Forest50 accuracy: 96.333333\n"
     ]
    }
   ],
   "source": [
    "print(\"Accuracy of various classification methods using the principal components values:\")\n",
    "for classifer_name in models_list:\n",
    "    classifier = d_models[classifer_name]\n",
    "    classifer_model = classifier.fit(train_X, train_Y)\n",
    "    \n",
    "    # make predictions\n",
    "    expected = test_Y \n",
    "    predicted = classifer_model.predict(test_X)\n",
    "    precision = metrics.accuracy_score(predicted, test_Y) * 100\n",
    "    \n",
    "    # summarize the fit of the model\n",
    "    print(classifer_name, \"accuracy: {0:.6f}\".format(precision))\n",
    "    # print(metrics.classification_report(expected, predicted))"
   ]
  },
  {
   "cell_type": "code",
   "execution_count": 185,
   "metadata": {},
   "outputs": [
    {
     "name": "stdout",
     "output_type": "stream",
     "text": [
      "DecisionTreeClassifier(class_weight=None, criterion='gini', max_depth=None,\n",
      "            max_features=None, max_leaf_nodes=None,\n",
      "            min_impurity_decrease=0.0, min_impurity_split=None,\n",
      "            min_samples_leaf=1, min_samples_split=2,\n",
      "            min_weight_fraction_leaf=0.0, presort=False, random_state=None,\n",
      "            splitter='best')\n",
      "                 precision    recall  f1-score   support\n",
      "\n",
      " character_1_ka       1.00      1.00      1.00       300\n",
      "character_2_kha       1.00      1.00      1.00       300\n",
      " character_3_ga       1.00      1.00      1.00       300\n",
      "character_4_gha       1.00      1.00      1.00       300\n",
      "character_5_kna       1.00      1.00      1.00       300\n",
      "\n",
      "    avg / total       1.00      1.00      1.00      1500\n",
      "\n"
     ]
    }
   ],
   "source": [
    "# Decision Tree Classifier\n",
    "from sklearn.tree import DecisionTreeClassifier\n",
    "model = DecisionTreeClassifier()\n",
    "model.fit(test_X,test_Y )\n",
    "print(model)\n",
    "# make predictions\n",
    "expected = test_Y \n",
    "predicted = model.predict(test_X)\n",
    "# summarize the fit of the model\n",
    "print(metrics.classification_report(expected, predicted))"
   ]
  },
  {
   "cell_type": "markdown",
   "metadata": {},
   "source": [
    "## Results\n",
    "\n",
    "- Decision tree shows an accuracy of 100% \n",
    "- Knn with an accuracy of 98%. \n",
    "- Logistic regression 96.3%\n",
    "- Random forest(50) has an accuracy of 96% \n",
    "- Naive Bayes has an accuracy of 76%.\n",
    "- SVM has lowest acuuracy of 20%\n",
    "\n",
    "We have picked very few characters and from the visualization above, the characters are significantly different from one another.  Therefore a prediction accuracy of 100% is not surprising.  It will be interesting to see how the classifiers work when there are similar-looking characters.  Moreover, once we have 46 characters rather than just five characters, the accuracy will drop.\n",
    "\n",
    "Next steps:\n",
    "- Try these classifiers on similar looking characters.\n",
    "- Try these classifiers on all the characters and evaluate the resources consumed."
   ]
  },
  {
   "cell_type": "code",
   "execution_count": null,
   "metadata": {
    "collapsed": true
   },
   "outputs": [],
   "source": []
  }
 ],
 "metadata": {
  "kernelspec": {
   "display_name": "Python 3",
   "language": "python",
   "name": "python3"
  },
  "language_info": {
   "codemirror_mode": {
    "name": "ipython",
    "version": 3
   },
   "file_extension": ".py",
   "mimetype": "text/x-python",
   "name": "python",
   "nbconvert_exporter": "python",
   "pygments_lexer": "ipython3",
   "version": "3.6.3"
  }
 },
 "nbformat": 4,
 "nbformat_minor": 2
}
